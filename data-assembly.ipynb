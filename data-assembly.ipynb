{
 "cells": [
  {
   "cell_type": "code",
   "execution_count": 44,
   "metadata": {},
   "outputs": [],
   "source": [
    "import pandas as pd \n",
    "import numpy as np \n",
    "import skimage.io \n",
    "import cv2 \n",
    "import os\n",
    "import auxiliar as ax\n",
    "import display_embeding as dp\n",
    "from os import listdir\n",
    "from os.path import isfile, join\n",
    "from pathlib import Path\n",
    "import matplotlib.pyplot as plt \n",
    "from tqdm import tqdm "
   ]
  },
  {
   "cell_type": "code",
   "execution_count": 2,
   "metadata": {},
   "outputs": [],
   "source": [
    "AB_c = pd.read_csv('./HPC_results/matrix_distance_Comp.csv', index_col=0)\n",
    "AB = pd.read_csv('./HPC_results/matrix_distance_AlexBio.csv', index_col=0)\n",
    "AB_1 = pd.read_csv('./HPC_results/matrix_distance_AlexBio_1.csv', index_col=0)\n",
    "AB_1 = pd.read_csv('./HPC_results/matrix_distance_AlexBio_1.csv', index_col=0)\n",
    "AB_2 = pd.read_csv('./HPC_results/matrix_distance_AlexBio_2.csv', index_col=0)\n",
    "\n",
    "# df = AB.combine_first(AB_c)\n",
    "# df = df.combine_first(AB_2)\n",
    "# df = df.combine_first(AB_1)\n",
    "# df.to_csv('./HPC_results/embeding_distances.csv')"
   ]
  },
  {
   "cell_type": "code",
   "execution_count": 3,
   "metadata": {},
   "outputs": [
    {
     "data": {
      "text/html": [
       "<div>\n",
       "<style scoped>\n",
       "    .dataframe tbody tr th:only-of-type {\n",
       "        vertical-align: middle;\n",
       "    }\n",
       "\n",
       "    .dataframe tbody tr th {\n",
       "        vertical-align: top;\n",
       "    }\n",
       "\n",
       "    .dataframe thead th {\n",
       "        text-align: right;\n",
       "    }\n",
       "</style>\n",
       "<table border=\"1\" class=\"dataframe\">\n",
       "  <thead>\n",
       "    <tr style=\"text-align: right;\">\n",
       "      <th></th>\n",
       "      <th>04456d101.png</th>\n",
       "      <th>04805d38.png</th>\n",
       "      <th>04314d27.png</th>\n",
       "      <th>04661d145.png</th>\n",
       "      <th>04750d22.png</th>\n",
       "      <th>04638d11.png</th>\n",
       "      <th>04419d40.png</th>\n",
       "      <th>04402d136.png</th>\n",
       "      <th>04929d06.png</th>\n",
       "      <th>04831d90.png</th>\n",
       "      <th>...</th>\n",
       "      <th>04243d185.png</th>\n",
       "      <th>04762d02.png</th>\n",
       "      <th>04493d48.png</th>\n",
       "      <th>04914d06.png</th>\n",
       "      <th>04882d34.png</th>\n",
       "      <th>04560d105.png</th>\n",
       "      <th>04903d00.png</th>\n",
       "      <th>04730d02.png</th>\n",
       "      <th>04535d16.png</th>\n",
       "      <th>04297d289.png</th>\n",
       "    </tr>\n",
       "  </thead>\n",
       "  <tbody>\n",
       "    <tr>\n",
       "      <th>04456d101.png</th>\n",
       "      <td>0.000000</td>\n",
       "      <td>1.124556</td>\n",
       "      <td>0.913641</td>\n",
       "      <td>1.084750</td>\n",
       "      <td>0.867742</td>\n",
       "      <td>1.488098</td>\n",
       "      <td>1.079993</td>\n",
       "      <td>0.828395</td>\n",
       "      <td>1.145159</td>\n",
       "      <td>0.843030</td>\n",
       "      <td>...</td>\n",
       "      <td>0.698054</td>\n",
       "      <td>1.093279</td>\n",
       "      <td>1.335912</td>\n",
       "      <td>1.377169</td>\n",
       "      <td>1.328397</td>\n",
       "      <td>1.224085</td>\n",
       "      <td>1.305788</td>\n",
       "      <td>1.427979</td>\n",
       "      <td>1.438792</td>\n",
       "      <td>0.887793</td>\n",
       "    </tr>\n",
       "    <tr>\n",
       "      <th>04805d38.png</th>\n",
       "      <td>1.124556</td>\n",
       "      <td>0.000000</td>\n",
       "      <td>1.252878</td>\n",
       "      <td>0.749359</td>\n",
       "      <td>0.976966</td>\n",
       "      <td>1.224425</td>\n",
       "      <td>0.814156</td>\n",
       "      <td>0.660675</td>\n",
       "      <td>1.228184</td>\n",
       "      <td>0.843189</td>\n",
       "      <td>...</td>\n",
       "      <td>1.576253</td>\n",
       "      <td>0.999968</td>\n",
       "      <td>1.272123</td>\n",
       "      <td>2.040159</td>\n",
       "      <td>1.202921</td>\n",
       "      <td>1.442219</td>\n",
       "      <td>2.088181</td>\n",
       "      <td>1.486213</td>\n",
       "      <td>1.009337</td>\n",
       "      <td>1.169135</td>\n",
       "    </tr>\n",
       "    <tr>\n",
       "      <th>04314d27.png</th>\n",
       "      <td>0.913641</td>\n",
       "      <td>1.252878</td>\n",
       "      <td>0.000000</td>\n",
       "      <td>1.135923</td>\n",
       "      <td>0.917492</td>\n",
       "      <td>1.200594</td>\n",
       "      <td>1.091471</td>\n",
       "      <td>0.936004</td>\n",
       "      <td>0.929913</td>\n",
       "      <td>0.876147</td>\n",
       "      <td>...</td>\n",
       "      <td>1.106424</td>\n",
       "      <td>1.146879</td>\n",
       "      <td>1.245821</td>\n",
       "      <td>1.701254</td>\n",
       "      <td>1.244104</td>\n",
       "      <td>0.954429</td>\n",
       "      <td>1.317079</td>\n",
       "      <td>1.562684</td>\n",
       "      <td>1.407924</td>\n",
       "      <td>0.824823</td>\n",
       "    </tr>\n",
       "    <tr>\n",
       "      <th>04661d145.png</th>\n",
       "      <td>1.084750</td>\n",
       "      <td>0.749359</td>\n",
       "      <td>1.135923</td>\n",
       "      <td>0.000000</td>\n",
       "      <td>0.762807</td>\n",
       "      <td>1.202242</td>\n",
       "      <td>0.872575</td>\n",
       "      <td>0.950195</td>\n",
       "      <td>1.082287</td>\n",
       "      <td>0.736074</td>\n",
       "      <td>...</td>\n",
       "      <td>1.114684</td>\n",
       "      <td>0.940321</td>\n",
       "      <td>0.654656</td>\n",
       "      <td>1.641644</td>\n",
       "      <td>1.293989</td>\n",
       "      <td>1.370311</td>\n",
       "      <td>1.878859</td>\n",
       "      <td>1.064974</td>\n",
       "      <td>1.256561</td>\n",
       "      <td>1.212701</td>\n",
       "    </tr>\n",
       "    <tr>\n",
       "      <th>04750d22.png</th>\n",
       "      <td>0.867742</td>\n",
       "      <td>0.976966</td>\n",
       "      <td>0.917492</td>\n",
       "      <td>0.762807</td>\n",
       "      <td>0.000000</td>\n",
       "      <td>1.514574</td>\n",
       "      <td>0.857137</td>\n",
       "      <td>0.787482</td>\n",
       "      <td>0.837329</td>\n",
       "      <td>0.809441</td>\n",
       "      <td>...</td>\n",
       "      <td>1.202244</td>\n",
       "      <td>1.026333</td>\n",
       "      <td>1.054698</td>\n",
       "      <td>1.882938</td>\n",
       "      <td>1.221805</td>\n",
       "      <td>1.149155</td>\n",
       "      <td>1.873367</td>\n",
       "      <td>1.267173</td>\n",
       "      <td>1.209825</td>\n",
       "      <td>0.966907</td>\n",
       "    </tr>\n",
       "    <tr>\n",
       "      <th>...</th>\n",
       "      <td>...</td>\n",
       "      <td>...</td>\n",
       "      <td>...</td>\n",
       "      <td>...</td>\n",
       "      <td>...</td>\n",
       "      <td>...</td>\n",
       "      <td>...</td>\n",
       "      <td>...</td>\n",
       "      <td>...</td>\n",
       "      <td>...</td>\n",
       "      <td>...</td>\n",
       "      <td>...</td>\n",
       "      <td>...</td>\n",
       "      <td>...</td>\n",
       "      <td>...</td>\n",
       "      <td>...</td>\n",
       "      <td>...</td>\n",
       "      <td>...</td>\n",
       "      <td>...</td>\n",
       "      <td>...</td>\n",
       "      <td>...</td>\n",
       "    </tr>\n",
       "    <tr>\n",
       "      <th>04560d105.png</th>\n",
       "      <td>1.224085</td>\n",
       "      <td>1.442219</td>\n",
       "      <td>0.954429</td>\n",
       "      <td>1.370311</td>\n",
       "      <td>1.149155</td>\n",
       "      <td>1.945230</td>\n",
       "      <td>1.129949</td>\n",
       "      <td>1.402781</td>\n",
       "      <td>1.304620</td>\n",
       "      <td>1.344457</td>\n",
       "      <td>...</td>\n",
       "      <td>1.292760</td>\n",
       "      <td>0.639066</td>\n",
       "      <td>1.443971</td>\n",
       "      <td>1.535308</td>\n",
       "      <td>1.164257</td>\n",
       "      <td>0.000000</td>\n",
       "      <td>1.685961</td>\n",
       "      <td>1.433221</td>\n",
       "      <td>1.646125</td>\n",
       "      <td>0.989202</td>\n",
       "    </tr>\n",
       "    <tr>\n",
       "      <th>04903d00.png</th>\n",
       "      <td>1.305788</td>\n",
       "      <td>2.088181</td>\n",
       "      <td>1.317079</td>\n",
       "      <td>1.878859</td>\n",
       "      <td>1.873367</td>\n",
       "      <td>1.477504</td>\n",
       "      <td>1.894509</td>\n",
       "      <td>1.964195</td>\n",
       "      <td>1.769957</td>\n",
       "      <td>1.718643</td>\n",
       "      <td>...</td>\n",
       "      <td>1.313204</td>\n",
       "      <td>1.883674</td>\n",
       "      <td>2.017234</td>\n",
       "      <td>1.716980</td>\n",
       "      <td>1.706689</td>\n",
       "      <td>1.685961</td>\n",
       "      <td>0.000000</td>\n",
       "      <td>1.976575</td>\n",
       "      <td>1.889409</td>\n",
       "      <td>1.778626</td>\n",
       "    </tr>\n",
       "    <tr>\n",
       "      <th>04730d02.png</th>\n",
       "      <td>1.427979</td>\n",
       "      <td>1.486213</td>\n",
       "      <td>1.562684</td>\n",
       "      <td>1.064974</td>\n",
       "      <td>1.267173</td>\n",
       "      <td>2.011694</td>\n",
       "      <td>1.509718</td>\n",
       "      <td>1.530215</td>\n",
       "      <td>1.717312</td>\n",
       "      <td>1.429473</td>\n",
       "      <td>...</td>\n",
       "      <td>1.549929</td>\n",
       "      <td>1.509000</td>\n",
       "      <td>1.112354</td>\n",
       "      <td>2.088066</td>\n",
       "      <td>1.478290</td>\n",
       "      <td>1.433221</td>\n",
       "      <td>1.976575</td>\n",
       "      <td>0.000000</td>\n",
       "      <td>1.764612</td>\n",
       "      <td>1.666770</td>\n",
       "    </tr>\n",
       "    <tr>\n",
       "      <th>04535d16.png</th>\n",
       "      <td>1.438792</td>\n",
       "      <td>1.009337</td>\n",
       "      <td>1.407924</td>\n",
       "      <td>1.256561</td>\n",
       "      <td>1.209825</td>\n",
       "      <td>0.775299</td>\n",
       "      <td>0.802347</td>\n",
       "      <td>1.203982</td>\n",
       "      <td>1.072863</td>\n",
       "      <td>1.276161</td>\n",
       "      <td>...</td>\n",
       "      <td>1.701047</td>\n",
       "      <td>1.486322</td>\n",
       "      <td>1.252679</td>\n",
       "      <td>2.020317</td>\n",
       "      <td>1.273981</td>\n",
       "      <td>1.646125</td>\n",
       "      <td>1.889409</td>\n",
       "      <td>1.764612</td>\n",
       "      <td>0.000000</td>\n",
       "      <td>1.449476</td>\n",
       "    </tr>\n",
       "    <tr>\n",
       "      <th>04297d289.png</th>\n",
       "      <td>0.887793</td>\n",
       "      <td>1.169135</td>\n",
       "      <td>0.824823</td>\n",
       "      <td>1.212701</td>\n",
       "      <td>0.966907</td>\n",
       "      <td>1.447283</td>\n",
       "      <td>0.742685</td>\n",
       "      <td>0.960448</td>\n",
       "      <td>0.629972</td>\n",
       "      <td>0.915063</td>\n",
       "      <td>...</td>\n",
       "      <td>0.840841</td>\n",
       "      <td>0.916474</td>\n",
       "      <td>1.424218</td>\n",
       "      <td>1.182041</td>\n",
       "      <td>1.584542</td>\n",
       "      <td>0.989202</td>\n",
       "      <td>1.778626</td>\n",
       "      <td>1.666770</td>\n",
       "      <td>1.449476</td>\n",
       "      <td>0.000000</td>\n",
       "    </tr>\n",
       "  </tbody>\n",
       "</table>\n",
       "<p>1440 rows × 1440 columns</p>\n",
       "</div>"
      ],
      "text/plain": [
       "               04456d101.png  04805d38.png  04314d27.png  04661d145.png  \\\n",
       "04456d101.png       0.000000      1.124556      0.913641       1.084750   \n",
       "04805d38.png        1.124556      0.000000      1.252878       0.749359   \n",
       "04314d27.png        0.913641      1.252878      0.000000       1.135923   \n",
       "04661d145.png       1.084750      0.749359      1.135923       0.000000   \n",
       "04750d22.png        0.867742      0.976966      0.917492       0.762807   \n",
       "...                      ...           ...           ...            ...   \n",
       "04560d105.png       1.224085      1.442219      0.954429       1.370311   \n",
       "04903d00.png        1.305788      2.088181      1.317079       1.878859   \n",
       "04730d02.png        1.427979      1.486213      1.562684       1.064974   \n",
       "04535d16.png        1.438792      1.009337      1.407924       1.256561   \n",
       "04297d289.png       0.887793      1.169135      0.824823       1.212701   \n",
       "\n",
       "               04750d22.png  04638d11.png  04419d40.png  04402d136.png  \\\n",
       "04456d101.png      0.867742      1.488098      1.079993       0.828395   \n",
       "04805d38.png       0.976966      1.224425      0.814156       0.660675   \n",
       "04314d27.png       0.917492      1.200594      1.091471       0.936004   \n",
       "04661d145.png      0.762807      1.202242      0.872575       0.950195   \n",
       "04750d22.png       0.000000      1.514574      0.857137       0.787482   \n",
       "...                     ...           ...           ...            ...   \n",
       "04560d105.png      1.149155      1.945230      1.129949       1.402781   \n",
       "04903d00.png       1.873367      1.477504      1.894509       1.964195   \n",
       "04730d02.png       1.267173      2.011694      1.509718       1.530215   \n",
       "04535d16.png       1.209825      0.775299      0.802347       1.203982   \n",
       "04297d289.png      0.966907      1.447283      0.742685       0.960448   \n",
       "\n",
       "               04929d06.png  04831d90.png  ...  04243d185.png  04762d02.png  \\\n",
       "04456d101.png      1.145159      0.843030  ...       0.698054      1.093279   \n",
       "04805d38.png       1.228184      0.843189  ...       1.576253      0.999968   \n",
       "04314d27.png       0.929913      0.876147  ...       1.106424      1.146879   \n",
       "04661d145.png      1.082287      0.736074  ...       1.114684      0.940321   \n",
       "04750d22.png       0.837329      0.809441  ...       1.202244      1.026333   \n",
       "...                     ...           ...  ...            ...           ...   \n",
       "04560d105.png      1.304620      1.344457  ...       1.292760      0.639066   \n",
       "04903d00.png       1.769957      1.718643  ...       1.313204      1.883674   \n",
       "04730d02.png       1.717312      1.429473  ...       1.549929      1.509000   \n",
       "04535d16.png       1.072863      1.276161  ...       1.701047      1.486322   \n",
       "04297d289.png      0.629972      0.915063  ...       0.840841      0.916474   \n",
       "\n",
       "               04493d48.png  04914d06.png  04882d34.png  04560d105.png  \\\n",
       "04456d101.png      1.335912      1.377169      1.328397       1.224085   \n",
       "04805d38.png       1.272123      2.040159      1.202921       1.442219   \n",
       "04314d27.png       1.245821      1.701254      1.244104       0.954429   \n",
       "04661d145.png      0.654656      1.641644      1.293989       1.370311   \n",
       "04750d22.png       1.054698      1.882938      1.221805       1.149155   \n",
       "...                     ...           ...           ...            ...   \n",
       "04560d105.png      1.443971      1.535308      1.164257       0.000000   \n",
       "04903d00.png       2.017234      1.716980      1.706689       1.685961   \n",
       "04730d02.png       1.112354      2.088066      1.478290       1.433221   \n",
       "04535d16.png       1.252679      2.020317      1.273981       1.646125   \n",
       "04297d289.png      1.424218      1.182041      1.584542       0.989202   \n",
       "\n",
       "               04903d00.png  04730d02.png  04535d16.png  04297d289.png  \n",
       "04456d101.png      1.305788      1.427979      1.438792       0.887793  \n",
       "04805d38.png       2.088181      1.486213      1.009337       1.169135  \n",
       "04314d27.png       1.317079      1.562684      1.407924       0.824823  \n",
       "04661d145.png      1.878859      1.064974      1.256561       1.212701  \n",
       "04750d22.png       1.873367      1.267173      1.209825       0.966907  \n",
       "...                     ...           ...           ...            ...  \n",
       "04560d105.png      1.685961      1.433221      1.646125       0.989202  \n",
       "04903d00.png       0.000000      1.976575      1.889409       1.778626  \n",
       "04730d02.png       1.976575      0.000000      1.764612       1.666770  \n",
       "04535d16.png       1.889409      1.764612      0.000000       1.449476  \n",
       "04297d289.png      1.778626      1.666770      1.449476       0.000000  \n",
       "\n",
       "[1440 rows x 1440 columns]"
      ]
     },
     "execution_count": 3,
     "metadata": {},
     "output_type": "execute_result"
    }
   ],
   "source": [
    "df = pd.read_csv(r'./HPC_results/embeding_distances.csv', index_col=0)\n",
    "df"
   ]
  },
  {
   "cell_type": "code",
   "execution_count": 4,
   "metadata": {},
   "outputs": [
    {
     "data": {
      "text/plain": [
       "array([['04456d101.png', '04456d34.png', 0.25774217],\n",
       "       ['04805d38.png', '04805d12.png', 0.17672318],\n",
       "       ['04314d27.png', '04314d57.png', 0.16416067],\n",
       "       ...,\n",
       "       ['04730d02.png', '04730d32.png', 0.2831681],\n",
       "       ['04535d16.png', '04925d08.png', 0.3885279893875122],\n",
       "       ['04297d289.png', '04297d102.png', 0.1063558906316757]],\n",
       "      dtype=object)"
      ]
     },
     "execution_count": 4,
     "metadata": {},
     "output_type": "execute_result"
    }
   ],
   "source": [
    "df1 = df.replace(0, np.NaN)\n",
    "idx = np.array(df1.index)[:,None]\n",
    "idx_min = np.array(df1.idxmin(skipna=1))[:,None]\n",
    "min_val = np.array(df1.min(skipna=1))[:,None]\n",
    "photos = np.c_[idx, idx_min, min_val]\n",
    "photos"
   ]
  },
  {
   "cell_type": "code",
   "execution_count": 5,
   "metadata": {},
   "outputs": [],
   "source": [
    "id1 = np.array([i[0].split('d')[0] for i in idx])[:,None]"
   ]
  },
  {
   "cell_type": "code",
   "execution_count": 6,
   "metadata": {},
   "outputs": [
    {
     "name": "stdout",
     "output_type": "stream",
     "text": [
      "Probelm 664\n",
      "[664]\n"
     ]
    }
   ],
   "source": [
    "c = 0 \n",
    "c_list = []\n",
    "for i in idx_min:\n",
    "    if type(i[0]) == float:\n",
    "        print('Probelm', c)\n",
    "        c_list.append(c)\n",
    "    c += 1\n",
    "print(c_list)"
   ]
  },
  {
   "cell_type": "code",
   "execution_count": 7,
   "metadata": {},
   "outputs": [],
   "source": [
    "idx_min[c_list[0]] = 'Notfound'"
   ]
  },
  {
   "cell_type": "code",
   "execution_count": 8,
   "metadata": {},
   "outputs": [],
   "source": [
    "id2 = np.array([i[0].split('d')[0] for i in idx_min])[:,None]"
   ]
  },
  {
   "cell_type": "code",
   "execution_count": 10,
   "metadata": {},
   "outputs": [
    {
     "data": {
      "text/plain": [
       "array([False, False, False, ..., False,  True, False])"
      ]
     },
     "execution_count": 10,
     "metadata": {},
     "output_type": "execute_result"
    }
   ],
   "source": [
    "ph_id = (id1 != id2)\n",
    "ph_id.flatten()"
   ]
  },
  {
   "cell_type": "code",
   "execution_count": 11,
   "metadata": {},
   "outputs": [],
   "source": [
    "selected_ph = photos[ph_id.flatten(), :]\n",
    "selected_ph[selected_ph[:,-1].argsort()]\n",
    "\n",
    "df_photos = pd.DataFrame(selected_ph, columns=['id1', 'id2', 'emb_dist'])"
   ]
  },
  {
   "cell_type": "code",
   "execution_count": 12,
   "metadata": {},
   "outputs": [
    {
     "data": {
      "text/html": [
       "<div>\n",
       "<style scoped>\n",
       "    .dataframe tbody tr th:only-of-type {\n",
       "        vertical-align: middle;\n",
       "    }\n",
       "\n",
       "    .dataframe tbody tr th {\n",
       "        vertical-align: top;\n",
       "    }\n",
       "\n",
       "    .dataframe thead th {\n",
       "        text-align: right;\n",
       "    }\n",
       "</style>\n",
       "<table border=\"1\" class=\"dataframe\">\n",
       "  <thead>\n",
       "    <tr style=\"text-align: right;\">\n",
       "      <th></th>\n",
       "      <th>id1</th>\n",
       "      <th>id2</th>\n",
       "      <th>emb_dist</th>\n",
       "    </tr>\n",
       "  </thead>\n",
       "  <tbody>\n",
       "    <tr>\n",
       "      <th>26</th>\n",
       "      <td>04714d35.png</td>\n",
       "      <td>04540d107.png</td>\n",
       "      <td>0.185079</td>\n",
       "    </tr>\n",
       "    <tr>\n",
       "      <th>137</th>\n",
       "      <td>04540d107.png</td>\n",
       "      <td>04714d35.png</td>\n",
       "      <td>0.185079</td>\n",
       "    </tr>\n",
       "    <tr>\n",
       "      <th>33</th>\n",
       "      <td>04892d72.png</td>\n",
       "      <td>04922d12.png</td>\n",
       "      <td>0.236278</td>\n",
       "    </tr>\n",
       "    <tr>\n",
       "      <th>17</th>\n",
       "      <td>04507d356.png</td>\n",
       "      <td>04256d120.png</td>\n",
       "      <td>0.236988</td>\n",
       "    </tr>\n",
       "    <tr>\n",
       "      <th>119</th>\n",
       "      <td>04631d29.png</td>\n",
       "      <td>04764d10.png</td>\n",
       "      <td>0.26008</td>\n",
       "    </tr>\n",
       "    <tr>\n",
       "      <th>65</th>\n",
       "      <td>04650d128.png</td>\n",
       "      <td>04360d101.png</td>\n",
       "      <td>0.262468</td>\n",
       "    </tr>\n",
       "    <tr>\n",
       "      <th>64</th>\n",
       "      <td>04408d102.png</td>\n",
       "      <td>04422d50.png</td>\n",
       "      <td>0.265447</td>\n",
       "    </tr>\n",
       "    <tr>\n",
       "      <th>99</th>\n",
       "      <td>04752d04.png</td>\n",
       "      <td>04848d62.png</td>\n",
       "      <td>0.268253</td>\n",
       "    </tr>\n",
       "    <tr>\n",
       "      <th>116</th>\n",
       "      <td>04883d02.png</td>\n",
       "      <td>04881d00.png</td>\n",
       "      <td>0.271623</td>\n",
       "    </tr>\n",
       "    <tr>\n",
       "      <th>108</th>\n",
       "      <td>04649d14.png</td>\n",
       "      <td>04451d102.png</td>\n",
       "      <td>0.291277</td>\n",
       "    </tr>\n",
       "  </tbody>\n",
       "</table>\n",
       "</div>"
      ],
      "text/plain": [
       "               id1            id2  emb_dist\n",
       "26    04714d35.png  04540d107.png  0.185079\n",
       "137  04540d107.png   04714d35.png  0.185079\n",
       "33    04892d72.png   04922d12.png  0.236278\n",
       "17   04507d356.png  04256d120.png  0.236988\n",
       "119   04631d29.png   04764d10.png   0.26008\n",
       "65   04650d128.png  04360d101.png  0.262468\n",
       "64   04408d102.png   04422d50.png  0.265447\n",
       "99    04752d04.png   04848d62.png  0.268253\n",
       "116   04883d02.png   04881d00.png  0.271623\n",
       "108   04649d14.png  04451d102.png  0.291277"
      ]
     },
     "execution_count": 12,
     "metadata": {},
     "output_type": "execute_result"
    }
   ],
   "source": [
    "df_photos.sort_values(by=['emb_dist']).head(10)"
   ]
  },
  {
   "cell_type": "code",
   "execution_count": 13,
   "metadata": {},
   "outputs": [],
   "source": [
    "morph5 = ['04540d107.png', '04714d35.png', '04557d102.png']"
   ]
  },
  {
   "cell_type": "code",
   "execution_count": 14,
   "metadata": {},
   "outputs": [
    {
     "data": {
      "text/plain": [
       "04876d62.png     0.000000\n",
       "04540d107.png    0.185079\n",
       "04714d35.png     0.185079\n",
       "04540d95.png     0.450234\n",
       "04708d81.png     0.512152\n",
       "                   ...   \n",
       "04515d74.png     3.766876\n",
       "04635d11.png     3.792864\n",
       "04505d146.png    3.823770\n",
       "04635d31.png     3.965255\n",
       "04780d02.png     4.118487\n",
       "Length: 1440, dtype: float64"
      ]
     },
     "execution_count": 14,
     "metadata": {},
     "output_type": "execute_result"
    }
   ],
   "source": [
    "df.loc[morph5[:-1], ~df.columns.isin([morph5[:-1]])].sum().sort_values()"
   ]
  },
  {
   "cell_type": "code",
   "execution_count": 15,
   "metadata": {},
   "outputs": [
    {
     "data": {
      "text/plain": [
       "04876    0.000000\n",
       "04708    0.512152\n",
       "04557    0.578800\n",
       "04708    0.638650\n",
       "04760    0.663088\n",
       "           ...   \n",
       "04515    3.766876\n",
       "04635    3.792864\n",
       "04505    3.823770\n",
       "04635    3.965255\n",
       "04780    4.118487\n",
       "Length: 1434, dtype: float64"
      ]
     },
     "execution_count": 15,
     "metadata": {},
     "output_type": "execute_result"
    }
   ],
   "source": [
    "v = df1.loc[morph5[:-1]]\n",
    "# \n",
    "# v[v!=0].sort_values()\n",
    "v_idx = [i.split('d')[0] for i in v.columns]\n",
    "v.columns = v_idx\n",
    "v.loc[:, (v.columns != morph5[0].split('d')[0]) & (v.columns != morph5[1].split('d')[0])].sum().sort_values()"
   ]
  },
  {
   "cell_type": "code",
   "execution_count": 14,
   "metadata": {},
   "outputs": [
    {
     "data": {
      "text/plain": [
       "04876d62.png     0.000000\n",
       "04708d81.png     0.512152\n",
       "04557d102.png    0.578800\n",
       "04708d20.png     0.638650\n",
       "04760d128.png    0.663088\n",
       "04744d96.png     0.694919\n",
       "04726d90.png     0.740574\n",
       "04847d92.png     0.742111\n",
       "04202d392.png    0.744368\n",
       "04429d97.png     0.747224\n",
       "dtype: float64"
      ]
     },
     "execution_count": 14,
     "metadata": {},
     "output_type": "execute_result"
    }
   ],
   "source": [
    "v = df1.loc[morph5[:-1]]\n",
    "\n",
    "v_idx = [i.split('d')[0] for i in v.columns]\n",
    "v.columns = v_idx\n",
    "df1.loc[morph5[:-1], (v.columns != morph5[0].split('d')[0]) & (v.columns != morph5[1].split('d')[0])].sum().sort_values().head(10)"
   ]
  },
  {
   "cell_type": "code",
   "execution_count": 16,
   "metadata": {},
   "outputs": [
    {
     "data": {
      "text/html": [
       "<div>\n",
       "<style scoped>\n",
       "    .dataframe tbody tr th:only-of-type {\n",
       "        vertical-align: middle;\n",
       "    }\n",
       "\n",
       "    .dataframe tbody tr th {\n",
       "        vertical-align: top;\n",
       "    }\n",
       "\n",
       "    .dataframe thead th {\n",
       "        text-align: right;\n",
       "    }\n",
       "</style>\n",
       "<table border=\"1\" class=\"dataframe\">\n",
       "  <thead>\n",
       "    <tr style=\"text-align: right;\">\n",
       "      <th></th>\n",
       "      <th>04456d101.png</th>\n",
       "      <th>04805d38.png</th>\n",
       "      <th>04314d27.png</th>\n",
       "      <th>04661d145.png</th>\n",
       "      <th>04750d22.png</th>\n",
       "      <th>04638d11.png</th>\n",
       "      <th>04419d40.png</th>\n",
       "      <th>04402d136.png</th>\n",
       "      <th>04929d06.png</th>\n",
       "      <th>04831d90.png</th>\n",
       "      <th>...</th>\n",
       "      <th>04243d185.png</th>\n",
       "      <th>04762d02.png</th>\n",
       "      <th>04493d48.png</th>\n",
       "      <th>04914d06.png</th>\n",
       "      <th>04882d34.png</th>\n",
       "      <th>04560d105.png</th>\n",
       "      <th>04903d00.png</th>\n",
       "      <th>04730d02.png</th>\n",
       "      <th>04535d16.png</th>\n",
       "      <th>04297d289.png</th>\n",
       "    </tr>\n",
       "  </thead>\n",
       "  <tbody>\n",
       "    <tr>\n",
       "      <th>04540d107.png</th>\n",
       "      <td>1.015889</td>\n",
       "      <td>1.271425</td>\n",
       "      <td>0.948733</td>\n",
       "      <td>0.863597</td>\n",
       "      <td>1.085155</td>\n",
       "      <td>1.292151</td>\n",
       "      <td>1.067244</td>\n",
       "      <td>1.119432</td>\n",
       "      <td>1.199184</td>\n",
       "      <td>1.013308</td>\n",
       "      <td>...</td>\n",
       "      <td>1.093559</td>\n",
       "      <td>0.708955</td>\n",
       "      <td>1.037817</td>\n",
       "      <td>1.612717</td>\n",
       "      <td>0.859089</td>\n",
       "      <td>0.849198</td>\n",
       "      <td>1.534605</td>\n",
       "      <td>1.394669</td>\n",
       "      <td>1.243773</td>\n",
       "      <td>1.268932</td>\n",
       "    </tr>\n",
       "    <tr>\n",
       "      <th>04714d35.png</th>\n",
       "      <td>0.929739</td>\n",
       "      <td>1.123561</td>\n",
       "      <td>0.952561</td>\n",
       "      <td>0.855998</td>\n",
       "      <td>1.192631</td>\n",
       "      <td>1.322566</td>\n",
       "      <td>1.048881</td>\n",
       "      <td>1.092247</td>\n",
       "      <td>1.328623</td>\n",
       "      <td>1.085790</td>\n",
       "      <td>...</td>\n",
       "      <td>1.144909</td>\n",
       "      <td>0.751476</td>\n",
       "      <td>1.085882</td>\n",
       "      <td>1.655679</td>\n",
       "      <td>0.688814</td>\n",
       "      <td>0.910240</td>\n",
       "      <td>1.448786</td>\n",
       "      <td>1.428329</td>\n",
       "      <td>1.288444</td>\n",
       "      <td>1.295039</td>\n",
       "    </tr>\n",
       "    <tr>\n",
       "      <th>04557d102.png</th>\n",
       "      <td>1.007842</td>\n",
       "      <td>1.071159</td>\n",
       "      <td>1.111974</td>\n",
       "      <td>0.924129</td>\n",
       "      <td>1.302033</td>\n",
       "      <td>1.313919</td>\n",
       "      <td>1.027201</td>\n",
       "      <td>1.244851</td>\n",
       "      <td>1.406260</td>\n",
       "      <td>1.028590</td>\n",
       "      <td>...</td>\n",
       "      <td>1.274460</td>\n",
       "      <td>0.644301</td>\n",
       "      <td>1.217270</td>\n",
       "      <td>1.699488</td>\n",
       "      <td>0.876032</td>\n",
       "      <td>0.769053</td>\n",
       "      <td>1.422823</td>\n",
       "      <td>1.360665</td>\n",
       "      <td>1.151309</td>\n",
       "      <td>1.372567</td>\n",
       "    </tr>\n",
       "  </tbody>\n",
       "</table>\n",
       "<p>3 rows × 1440 columns</p>\n",
       "</div>"
      ],
      "text/plain": [
       "               04456d101.png  04805d38.png  04314d27.png  04661d145.png  \\\n",
       "04540d107.png       1.015889      1.271425      0.948733       0.863597   \n",
       "04714d35.png        0.929739      1.123561      0.952561       0.855998   \n",
       "04557d102.png       1.007842      1.071159      1.111974       0.924129   \n",
       "\n",
       "               04750d22.png  04638d11.png  04419d40.png  04402d136.png  \\\n",
       "04540d107.png      1.085155      1.292151      1.067244       1.119432   \n",
       "04714d35.png       1.192631      1.322566      1.048881       1.092247   \n",
       "04557d102.png      1.302033      1.313919      1.027201       1.244851   \n",
       "\n",
       "               04929d06.png  04831d90.png  ...  04243d185.png  04762d02.png  \\\n",
       "04540d107.png      1.199184      1.013308  ...       1.093559      0.708955   \n",
       "04714d35.png       1.328623      1.085790  ...       1.144909      0.751476   \n",
       "04557d102.png      1.406260      1.028590  ...       1.274460      0.644301   \n",
       "\n",
       "               04493d48.png  04914d06.png  04882d34.png  04560d105.png  \\\n",
       "04540d107.png      1.037817      1.612717      0.859089       0.849198   \n",
       "04714d35.png       1.085882      1.655679      0.688814       0.910240   \n",
       "04557d102.png      1.217270      1.699488      0.876032       0.769053   \n",
       "\n",
       "               04903d00.png  04730d02.png  04535d16.png  04297d289.png  \n",
       "04540d107.png      1.534605      1.394669      1.243773       1.268932  \n",
       "04714d35.png       1.448786      1.428329      1.288444       1.295039  \n",
       "04557d102.png      1.422823      1.360665      1.151309       1.372567  \n",
       "\n",
       "[3 rows x 1440 columns]"
      ]
     },
     "execution_count": 16,
     "metadata": {},
     "output_type": "execute_result"
    }
   ],
   "source": [
    "v = df1.loc[morph5]\n",
    "v"
   ]
  },
  {
   "cell_type": "code",
   "execution_count": 17,
   "metadata": {},
   "outputs": [
    {
     "data": {
      "text/plain": [
       "04876d62.png     0.000000\n",
       "04708d81.png     0.963104\n",
       "04202d392.png    0.988484\n",
       "04726d90.png     0.992044\n",
       "04202d544.png    1.112860\n",
       "04744d96.png     1.125326\n",
       "04847d92.png     1.125674\n",
       "04711d103.png    1.137370\n",
       "04832d46.png     1.150190\n",
       "04708d20.png     1.173026\n",
       "dtype: float64"
      ]
     },
     "execution_count": 17,
     "metadata": {},
     "output_type": "execute_result"
    }
   ],
   "source": [
    "v_idx = [i.split('d')[0] for i in v.columns]\n",
    "v.columns = v_idx\n",
    "df1.loc[morph5, (v.columns != morph5[0].split('d')[0]) & (v.columns != morph5[1].split('d')[0]) & (v.columns != morph5[2].split('d')[0])].sum().sort_values().head(10)\n"
   ]
  },
  {
   "cell_type": "code",
   "execution_count": 18,
   "metadata": {},
   "outputs": [
    {
     "data": {
      "text/plain": [
       "04876d62.png     0.000000\n",
       "04708d81.png     0.963104\n",
       "04202d392.png    0.988484\n",
       "04726d90.png     0.992044\n",
       "04202d544.png    1.112860\n",
       "04744d96.png     1.125326\n",
       "04847d92.png     1.125674\n",
       "04711d103.png    1.137370\n",
       "04832d46.png     1.150190\n",
       "04708d20.png     1.173026\n",
       "dtype: float64"
      ]
     },
     "execution_count": 18,
     "metadata": {},
     "output_type": "execute_result"
    }
   ],
   "source": [
    "v_idx = [i.split('d')[0] for i in v.columns]\n",
    "v.columns = v_idx\n",
    "df1.loc[morph5, ~v.columns.isin([i.split('d')[0] for i in morph5])].sum().sort_values().head(10)\n"
   ]
  },
  {
   "cell_type": "code",
   "execution_count": 19,
   "metadata": {},
   "outputs": [],
   "source": [
    "morph5.append('04708d81.png')\n"
   ]
  },
  {
   "cell_type": "code",
   "execution_count": 20,
   "metadata": {},
   "outputs": [
    {
     "data": {
      "text/plain": [
       "['04540d107.png', '04714d35.png', '04557d102.png', '04708d81.png']"
      ]
     },
     "execution_count": 20,
     "metadata": {},
     "output_type": "execute_result"
    }
   ],
   "source": [
    "morph5"
   ]
  },
  {
   "cell_type": "code",
   "execution_count": 21,
   "metadata": {},
   "outputs": [
    {
     "data": {
      "text/plain": [
       "04876d62.png     0.000000\n",
       "04202d392.png    1.357166\n",
       "04726d90.png     1.405303\n",
       "04847d92.png     1.505614\n",
       "04726d08.png     1.559342\n",
       "04832d46.png     1.562773\n",
       "04228d136.png    1.562949\n",
       "04202d544.png    1.568237\n",
       "04847d02.png     1.576539\n",
       "04744d96.png     1.596595\n",
       "dtype: float64"
      ]
     },
     "execution_count": 21,
     "metadata": {},
     "output_type": "execute_result"
    }
   ],
   "source": [
    "df1.loc[morph5, ~v.columns.isin([i.split('d')[0] for i in morph5])].sum().sort_values().head(10)"
   ]
  },
  {
   "cell_type": "code",
   "execution_count": 22,
   "metadata": {},
   "outputs": [
    {
     "data": {
      "text/html": [
       "<div>\n",
       "<style scoped>\n",
       "    .dataframe tbody tr th:only-of-type {\n",
       "        vertical-align: middle;\n",
       "    }\n",
       "\n",
       "    .dataframe tbody tr th {\n",
       "        vertical-align: top;\n",
       "    }\n",
       "\n",
       "    .dataframe thead th {\n",
       "        text-align: right;\n",
       "    }\n",
       "</style>\n",
       "<table border=\"1\" class=\"dataframe\">\n",
       "  <thead>\n",
       "    <tr style=\"text-align: right;\">\n",
       "      <th></th>\n",
       "      <th>04540d107.png</th>\n",
       "      <th>04714d35.png</th>\n",
       "      <th>04557d102.png</th>\n",
       "      <th>04708d81.png</th>\n",
       "    </tr>\n",
       "  </thead>\n",
       "  <tbody>\n",
       "    <tr>\n",
       "      <th>04540d107.png</th>\n",
       "      <td>0.000000</td>\n",
       "      <td>0.185079</td>\n",
       "      <td>0.310582</td>\n",
       "      <td>0.246293</td>\n",
       "    </tr>\n",
       "    <tr>\n",
       "      <th>04714d35.png</th>\n",
       "      <td>0.185079</td>\n",
       "      <td>0.000000</td>\n",
       "      <td>0.268219</td>\n",
       "      <td>0.265859</td>\n",
       "    </tr>\n",
       "    <tr>\n",
       "      <th>04557d102.png</th>\n",
       "      <td>0.310582</td>\n",
       "      <td>0.268219</td>\n",
       "      <td>0.000000</td>\n",
       "      <td>0.450952</td>\n",
       "    </tr>\n",
       "    <tr>\n",
       "      <th>04708d81.png</th>\n",
       "      <td>0.246293</td>\n",
       "      <td>0.265859</td>\n",
       "      <td>0.450952</td>\n",
       "      <td>0.000000</td>\n",
       "    </tr>\n",
       "  </tbody>\n",
       "</table>\n",
       "</div>"
      ],
      "text/plain": [
       "               04540d107.png  04714d35.png  04557d102.png  04708d81.png\n",
       "04540d107.png       0.000000      0.185079       0.310582      0.246293\n",
       "04714d35.png        0.185079      0.000000       0.268219      0.265859\n",
       "04557d102.png       0.310582      0.268219       0.000000      0.450952\n",
       "04708d81.png        0.246293      0.265859       0.450952      0.000000"
      ]
     },
     "execution_count": 22,
     "metadata": {},
     "output_type": "execute_result"
    }
   ],
   "source": [
    "df.loc[morph5, morph5]"
   ]
  },
  {
   "cell_type": "code",
   "execution_count": 23,
   "metadata": {},
   "outputs": [
    {
     "data": {
      "text/plain": [
       "04876d62.png     0.000000\n",
       "04202d392.png    1.357166\n",
       "04726d90.png     1.405303\n",
       "04847d92.png     1.505614\n",
       "04726d08.png     1.559342\n",
       "04832d46.png     1.562773\n",
       "04228d136.png    1.562949\n",
       "04202d544.png    1.568237\n",
       "04847d02.png     1.576539\n",
       "04744d96.png     1.596595\n",
       "dtype: float64"
      ]
     },
     "execution_count": 23,
     "metadata": {},
     "output_type": "execute_result"
    }
   ],
   "source": [
    "df1.loc[morph5, (v.columns != morph5[0].split('d')[0]) & (v.columns != morph5[1].split('d')[0]) & (v.columns != morph5[2].split('d')[0]) & (v.columns != morph5[3].split('d')[0])].sum().sort_values().head(10)"
   ]
  },
  {
   "cell_type": "code",
   "execution_count": 24,
   "metadata": {},
   "outputs": [
    {
     "data": {
      "text/html": [
       "<div>\n",
       "<style scoped>\n",
       "    .dataframe tbody tr th:only-of-type {\n",
       "        vertical-align: middle;\n",
       "    }\n",
       "\n",
       "    .dataframe tbody tr th {\n",
       "        vertical-align: top;\n",
       "    }\n",
       "\n",
       "    .dataframe thead th {\n",
       "        text-align: right;\n",
       "    }\n",
       "</style>\n",
       "<table border=\"1\" class=\"dataframe\">\n",
       "  <thead>\n",
       "    <tr style=\"text-align: right;\">\n",
       "      <th></th>\n",
       "      <th>04540d107.png</th>\n",
       "      <th>04714d35.png</th>\n",
       "      <th>04557d102.png</th>\n",
       "      <th>04708d81.png</th>\n",
       "    </tr>\n",
       "  </thead>\n",
       "  <tbody>\n",
       "    <tr>\n",
       "      <th>04540d107.png</th>\n",
       "      <td>0.000000</td>\n",
       "      <td>0.185079</td>\n",
       "      <td>0.310582</td>\n",
       "      <td>0.246293</td>\n",
       "    </tr>\n",
       "    <tr>\n",
       "      <th>04714d35.png</th>\n",
       "      <td>0.185079</td>\n",
       "      <td>0.000000</td>\n",
       "      <td>0.268219</td>\n",
       "      <td>0.265859</td>\n",
       "    </tr>\n",
       "    <tr>\n",
       "      <th>04557d102.png</th>\n",
       "      <td>0.310582</td>\n",
       "      <td>0.268219</td>\n",
       "      <td>0.000000</td>\n",
       "      <td>0.450952</td>\n",
       "    </tr>\n",
       "    <tr>\n",
       "      <th>04708d81.png</th>\n",
       "      <td>0.246293</td>\n",
       "      <td>0.265859</td>\n",
       "      <td>0.450952</td>\n",
       "      <td>0.000000</td>\n",
       "    </tr>\n",
       "  </tbody>\n",
       "</table>\n",
       "</div>"
      ],
      "text/plain": [
       "               04540d107.png  04714d35.png  04557d102.png  04708d81.png\n",
       "04540d107.png       0.000000      0.185079       0.310582      0.246293\n",
       "04714d35.png        0.185079      0.000000       0.268219      0.265859\n",
       "04557d102.png       0.310582      0.268219       0.000000      0.450952\n",
       "04708d81.png        0.246293      0.265859       0.450952      0.000000"
      ]
     },
     "execution_count": 24,
     "metadata": {},
     "output_type": "execute_result"
    }
   ],
   "source": [
    "df.loc[morph5, morph5]"
   ]
  },
  {
   "cell_type": "code",
   "execution_count": 25,
   "metadata": {},
   "outputs": [
    {
     "data": {
      "text/plain": [
       "['04540d107.png', '04714d35.png', 'Morph.bmp', 'Morph_1.fmp']"
      ]
     },
     "execution_count": 25,
     "metadata": {},
     "output_type": "execute_result"
    }
   ],
   "source": [
    "mypath = r'./Morph/Morph_1/'\n",
    "onlyfiles = [f for f in listdir(mypath) if isfile(join(mypath, f))]\n",
    "onlyfiles"
   ]
  },
  {
   "cell_type": "code",
   "execution_count": 26,
   "metadata": {},
   "outputs": [
    {
     "data": {
      "text/plain": [
       "<matplotlib.image.AxesImage at 0x2908799b280>"
      ]
     },
     "execution_count": 26,
     "metadata": {},
     "output_type": "execute_result"
    },
    {
     "data": {
      "image/png": "[encoded data removed]",
      "text/plain": [
       "<Figure size 432x288 with 1 Axes>"
      ]
     },
     "metadata": {
      "needs_background": "light"
     },
     "output_type": "display_data"
    }
   ],
   "source": [
    "I = skimage.io.imread(mypath+onlyfiles[2])\n",
    "skimage.io.imshow(I)"
   ]
  },
  {
   "cell_type": "code",
   "execution_count": 27,
   "metadata": {},
   "outputs": [],
   "source": [
    "def compute_new_distances(reference_path, dataframe, savetag):\n",
    "    \n",
    "    # Obtain the files on the directory\n",
    "    files = [f for f in listdir(reference_path) if isfile(join(reference_path, f)) and f.split('.')[1] != 'fmp' ]\n",
    "    # Create a list to store the embeding distances\n",
    "\n",
    "    \n",
    "    images = []\n",
    "    morphed = [f for f in files if  f.split('.')[1] != 'png']\n",
    "    original = [f for f in files if  f.split('.')[1] == 'png']\n",
    "    shape = None\n",
    "    dist = np.zeros((len(morphed), len(files)))\n",
    "    for i, mor in enumerate(morphed):\n",
    "\n",
    "        for j, f in enumerate(files):\n",
    "            s, _ = ax.comparefaces(reference_path+mor, reference_path+f)\n",
    "            dist[i, j] = s\n",
    "            if not i:\n",
    "                im = cv2.imread(reference_path+f)\n",
    "                position = ((int) (im.shape[1]/2 - 180), (int) (im.shape[0]/2 + 450))\n",
    "                cv2.putText(\n",
    "                    im, \n",
    "                    f, #text\n",
    "                    position, #position at which writing has to start\n",
    "                    cv2.FONT_HERSHEY_TRIPLEX, #font family\n",
    "                    1.5, #font size\n",
    "                    (0, 0, 0, 0), #font color\n",
    "                    3) #font stroke\n",
    "\n",
    "                images.append(im)\n",
    "                if not None:\n",
    "                    shape = im.shape\n",
    "                if im.shape < shape:\n",
    "                    shape = im.shape\n",
    "\n",
    "            \n",
    "            \n",
    "    for i in range(len(images)):\n",
    "        images[i] = images[i][:shape[0],:shape[1],:shape[2]]\n",
    "    \n",
    "    new_df = pd.DataFrame(dist[:,:len(original)], index=morphed, columns=files[:len(original)])\n",
    "    df = dataframe.loc[original, original].append(new_df)\n",
    "    df[morphed] = dist.T\n",
    "\n",
    "    path = reference_path+\"results/\"\n",
    "    Path(path).mkdir(parents=True, exist_ok=True)\n",
    "\n",
    "    df.to_csv(path+savetag+'.csv')\n",
    "    dp.similarity_image(images, df.values, path+savetag)\n",
    "    \n",
    "    \n",
    "    return df\n"
   ]
  },
  {
   "cell_type": "code",
   "execution_count": 29,
   "metadata": {},
   "outputs": [
    {
     "ename": "KeyError",
     "evalue": "\"None of [Index(['04540d242.png', '04540d84.png', '04714d109.png', '04714d18.png'], dtype='object')] are in the [index]\"",
     "output_type": "error",
     "traceback": [
      "\u001b[1;31m---------------------------------------------------------------------------\u001b[0m",
      "\u001b[1;31mKeyError\u001b[0m                                  Traceback (most recent call last)",
      "\u001b[1;32m~\\AppData\\Local\\Temp/ipykernel_16368/1171897601.py\u001b[0m in \u001b[0;36m<module>\u001b[1;34m\u001b[0m\n\u001b[0;32m      1\u001b[0m \u001b[0mreference_path\u001b[0m \u001b[1;33m=\u001b[0m \u001b[1;34mr'./Morph/Morph_1/testmorph/'\u001b[0m\u001b[1;33m\u001b[0m\u001b[1;33m\u001b[0m\u001b[0m\n\u001b[1;32m----> 2\u001b[1;33m \u001b[0mdf_m1\u001b[0m \u001b[1;33m=\u001b[0m \u001b[0mcompute_new_distances\u001b[0m\u001b[1;33m(\u001b[0m\u001b[0mreference_path\u001b[0m\u001b[1;33m,\u001b[0m \u001b[0mdf\u001b[0m\u001b[1;33m,\u001b[0m \u001b[1;34m'testmorph'\u001b[0m\u001b[1;33m)\u001b[0m\u001b[1;33m\u001b[0m\u001b[1;33m\u001b[0m\u001b[0m\n\u001b[0m",
      "\u001b[1;32m~\\AppData\\Local\\Temp/ipykernel_16368/3008441250.py\u001b[0m in \u001b[0;36mcompute_new_distances\u001b[1;34m(reference_path, dataframe, savetag)\u001b[0m\n\u001b[0;32m     40\u001b[0m \u001b[1;33m\u001b[0m\u001b[0m\n\u001b[0;32m     41\u001b[0m     \u001b[0mnew_df\u001b[0m \u001b[1;33m=\u001b[0m \u001b[0mpd\u001b[0m\u001b[1;33m.\u001b[0m\u001b[0mDataFrame\u001b[0m\u001b[1;33m(\u001b[0m\u001b[0mdist\u001b[0m\u001b[1;33m[\u001b[0m\u001b[1;33m:\u001b[0m\u001b[1;33m,\u001b[0m\u001b[1;33m:\u001b[0m\u001b[0mlen\u001b[0m\u001b[1;33m(\u001b[0m\u001b[0moriginal\u001b[0m\u001b[1;33m)\u001b[0m\u001b[1;33m]\u001b[0m\u001b[1;33m,\u001b[0m \u001b[0mindex\u001b[0m\u001b[1;33m=\u001b[0m\u001b[0mmorphed\u001b[0m\u001b[1;33m,\u001b[0m \u001b[0mcolumns\u001b[0m\u001b[1;33m=\u001b[0m\u001b[0mfiles\u001b[0m\u001b[1;33m[\u001b[0m\u001b[1;33m:\u001b[0m\u001b[0mlen\u001b[0m\u001b[1;33m(\u001b[0m\u001b[0moriginal\u001b[0m\u001b[1;33m)\u001b[0m\u001b[1;33m]\u001b[0m\u001b[1;33m)\u001b[0m\u001b[1;33m\u001b[0m\u001b[1;33m\u001b[0m\u001b[0m\n\u001b[1;32m---> 42\u001b[1;33m     \u001b[0mdf\u001b[0m \u001b[1;33m=\u001b[0m \u001b[0mdataframe\u001b[0m\u001b[1;33m.\u001b[0m\u001b[0mloc\u001b[0m\u001b[1;33m[\u001b[0m\u001b[0moriginal\u001b[0m\u001b[1;33m,\u001b[0m \u001b[0moriginal\u001b[0m\u001b[1;33m]\u001b[0m\u001b[1;33m.\u001b[0m\u001b[0mappend\u001b[0m\u001b[1;33m(\u001b[0m\u001b[0mnew_df\u001b[0m\u001b[1;33m)\u001b[0m\u001b[1;33m\u001b[0m\u001b[1;33m\u001b[0m\u001b[0m\n\u001b[0m\u001b[0;32m     43\u001b[0m     \u001b[0mdf\u001b[0m\u001b[1;33m[\u001b[0m\u001b[0mmorphed\u001b[0m\u001b[1;33m]\u001b[0m \u001b[1;33m=\u001b[0m \u001b[0mdist\u001b[0m\u001b[1;33m.\u001b[0m\u001b[0mT\u001b[0m\u001b[1;33m\u001b[0m\u001b[1;33m\u001b[0m\u001b[0m\n\u001b[0;32m     44\u001b[0m \u001b[1;33m\u001b[0m\u001b[0m\n",
      "\u001b[1;32mc:\\Users\\abade\\anaconda3\\lib\\site-packages\\pandas\\core\\indexing.py\u001b[0m in \u001b[0;36m__getitem__\u001b[1;34m(self, key)\u001b[0m\n\u001b[0;32m    923\u001b[0m                 \u001b[1;32mwith\u001b[0m \u001b[0msuppress\u001b[0m\u001b[1;33m(\u001b[0m\u001b[0mKeyError\u001b[0m\u001b[1;33m,\u001b[0m \u001b[0mIndexError\u001b[0m\u001b[1;33m)\u001b[0m\u001b[1;33m:\u001b[0m\u001b[1;33m\u001b[0m\u001b[1;33m\u001b[0m\u001b[0m\n\u001b[0;32m    924\u001b[0m                     \u001b[1;32mreturn\u001b[0m \u001b[0mself\u001b[0m\u001b[1;33m.\u001b[0m\u001b[0mobj\u001b[0m\u001b[1;33m.\u001b[0m\u001b[0m_get_value\u001b[0m\u001b[1;33m(\u001b[0m\u001b[1;33m*\u001b[0m\u001b[0mkey\u001b[0m\u001b[1;33m,\u001b[0m \u001b[0mtakeable\u001b[0m\u001b[1;33m=\u001b[0m\u001b[0mself\u001b[0m\u001b[1;33m.\u001b[0m\u001b[0m_takeable\u001b[0m\u001b[1;33m)\u001b[0m\u001b[1;33m\u001b[0m\u001b[1;33m\u001b[0m\u001b[0m\n\u001b[1;32m--> 925\u001b[1;33m             \u001b[1;32mreturn\u001b[0m \u001b[0mself\u001b[0m\u001b[1;33m.\u001b[0m\u001b[0m_getitem_tuple\u001b[0m\u001b[1;33m(\u001b[0m\u001b[0mkey\u001b[0m\u001b[1;33m)\u001b[0m\u001b[1;33m\u001b[0m\u001b[1;33m\u001b[0m\u001b[0m\n\u001b[0m\u001b[0;32m    926\u001b[0m         \u001b[1;32melse\u001b[0m\u001b[1;33m:\u001b[0m\u001b[1;33m\u001b[0m\u001b[1;33m\u001b[0m\u001b[0m\n\u001b[0;32m    927\u001b[0m             \u001b[1;31m# we by definition only have the 0th axis\u001b[0m\u001b[1;33m\u001b[0m\u001b[1;33m\u001b[0m\u001b[1;33m\u001b[0m\u001b[0m\n",
      "\u001b[1;32mc:\\Users\\abade\\anaconda3\\lib\\site-packages\\pandas\\core\\indexing.py\u001b[0m in \u001b[0;36m_getitem_tuple\u001b[1;34m(self, tup)\u001b[0m\n\u001b[0;32m   1105\u001b[0m         \u001b[1;31m# ugly hack for GH #836\u001b[0m\u001b[1;33m\u001b[0m\u001b[1;33m\u001b[0m\u001b[1;33m\u001b[0m\u001b[0m\n\u001b[0;32m   1106\u001b[0m         \u001b[1;32mif\u001b[0m \u001b[0mself\u001b[0m\u001b[1;33m.\u001b[0m\u001b[0m_multi_take_opportunity\u001b[0m\u001b[1;33m(\u001b[0m\u001b[0mtup\u001b[0m\u001b[1;33m)\u001b[0m\u001b[1;33m:\u001b[0m\u001b[1;33m\u001b[0m\u001b[1;33m\u001b[0m\u001b[0m\n\u001b[1;32m-> 1107\u001b[1;33m             \u001b[1;32mreturn\u001b[0m \u001b[0mself\u001b[0m\u001b[1;33m.\u001b[0m\u001b[0m_multi_take\u001b[0m\u001b[1;33m(\u001b[0m\u001b[0mtup\u001b[0m\u001b[1;33m)\u001b[0m\u001b[1;33m\u001b[0m\u001b[1;33m\u001b[0m\u001b[0m\n\u001b[0m\u001b[0;32m   1108\u001b[0m \u001b[1;33m\u001b[0m\u001b[0m\n\u001b[0;32m   1109\u001b[0m         \u001b[1;32mreturn\u001b[0m \u001b[0mself\u001b[0m\u001b[1;33m.\u001b[0m\u001b[0m_getitem_tuple_same_dim\u001b[0m\u001b[1;33m(\u001b[0m\u001b[0mtup\u001b[0m\u001b[1;33m)\u001b[0m\u001b[1;33m\u001b[0m\u001b[1;33m\u001b[0m\u001b[0m\n",
      "\u001b[1;32mc:\\Users\\abade\\anaconda3\\lib\\site-packages\\pandas\\core\\indexing.py\u001b[0m in \u001b[0;36m_multi_take\u001b[1;34m(self, tup)\u001b[0m\n\u001b[0;32m   1057\u001b[0m         \"\"\"\n\u001b[0;32m   1058\u001b[0m         \u001b[1;31m# GH 836\u001b[0m\u001b[1;33m\u001b[0m\u001b[1;33m\u001b[0m\u001b[1;33m\u001b[0m\u001b[0m\n\u001b[1;32m-> 1059\u001b[1;33m         d = {\n\u001b[0m\u001b[0;32m   1060\u001b[0m             \u001b[0maxis\u001b[0m\u001b[1;33m:\u001b[0m \u001b[0mself\u001b[0m\u001b[1;33m.\u001b[0m\u001b[0m_get_listlike_indexer\u001b[0m\u001b[1;33m(\u001b[0m\u001b[0mkey\u001b[0m\u001b[1;33m,\u001b[0m \u001b[0maxis\u001b[0m\u001b[1;33m)\u001b[0m\u001b[1;33m\u001b[0m\u001b[1;33m\u001b[0m\u001b[0m\n\u001b[0;32m   1061\u001b[0m             \u001b[1;32mfor\u001b[0m \u001b[1;33m(\u001b[0m\u001b[0mkey\u001b[0m\u001b[1;33m,\u001b[0m \u001b[0maxis\u001b[0m\u001b[1;33m)\u001b[0m \u001b[1;32min\u001b[0m \u001b[0mzip\u001b[0m\u001b[1;33m(\u001b[0m\u001b[0mtup\u001b[0m\u001b[1;33m,\u001b[0m \u001b[0mself\u001b[0m\u001b[1;33m.\u001b[0m\u001b[0mobj\u001b[0m\u001b[1;33m.\u001b[0m\u001b[0m_AXIS_ORDERS\u001b[0m\u001b[1;33m)\u001b[0m\u001b[1;33m\u001b[0m\u001b[1;33m\u001b[0m\u001b[0m\n",
      "\u001b[1;32mc:\\Users\\abade\\anaconda3\\lib\\site-packages\\pandas\\core\\indexing.py\u001b[0m in \u001b[0;36m<dictcomp>\u001b[1;34m(.0)\u001b[0m\n\u001b[0;32m   1058\u001b[0m         \u001b[1;31m# GH 836\u001b[0m\u001b[1;33m\u001b[0m\u001b[1;33m\u001b[0m\u001b[1;33m\u001b[0m\u001b[0m\n\u001b[0;32m   1059\u001b[0m         d = {\n\u001b[1;32m-> 1060\u001b[1;33m             \u001b[0maxis\u001b[0m\u001b[1;33m:\u001b[0m \u001b[0mself\u001b[0m\u001b[1;33m.\u001b[0m\u001b[0m_get_listlike_indexer\u001b[0m\u001b[1;33m(\u001b[0m\u001b[0mkey\u001b[0m\u001b[1;33m,\u001b[0m \u001b[0maxis\u001b[0m\u001b[1;33m)\u001b[0m\u001b[1;33m\u001b[0m\u001b[1;33m\u001b[0m\u001b[0m\n\u001b[0m\u001b[0;32m   1061\u001b[0m             \u001b[1;32mfor\u001b[0m \u001b[1;33m(\u001b[0m\u001b[0mkey\u001b[0m\u001b[1;33m,\u001b[0m \u001b[0maxis\u001b[0m\u001b[1;33m)\u001b[0m \u001b[1;32min\u001b[0m \u001b[0mzip\u001b[0m\u001b[1;33m(\u001b[0m\u001b[0mtup\u001b[0m\u001b[1;33m,\u001b[0m \u001b[0mself\u001b[0m\u001b[1;33m.\u001b[0m\u001b[0mobj\u001b[0m\u001b[1;33m.\u001b[0m\u001b[0m_AXIS_ORDERS\u001b[0m\u001b[1;33m)\u001b[0m\u001b[1;33m\u001b[0m\u001b[1;33m\u001b[0m\u001b[0m\n\u001b[0;32m   1062\u001b[0m         }\n",
      "\u001b[1;32mc:\\Users\\abade\\anaconda3\\lib\\site-packages\\pandas\\core\\indexing.py\u001b[0m in \u001b[0;36m_get_listlike_indexer\u001b[1;34m(self, key, axis)\u001b[0m\n\u001b[0;32m   1312\u001b[0m             \u001b[0mkeyarr\u001b[0m\u001b[1;33m,\u001b[0m \u001b[0mindexer\u001b[0m\u001b[1;33m,\u001b[0m \u001b[0mnew_indexer\u001b[0m \u001b[1;33m=\u001b[0m \u001b[0max\u001b[0m\u001b[1;33m.\u001b[0m\u001b[0m_reindex_non_unique\u001b[0m\u001b[1;33m(\u001b[0m\u001b[0mkeyarr\u001b[0m\u001b[1;33m)\u001b[0m\u001b[1;33m\u001b[0m\u001b[1;33m\u001b[0m\u001b[0m\n\u001b[0;32m   1313\u001b[0m \u001b[1;33m\u001b[0m\u001b[0m\n\u001b[1;32m-> 1314\u001b[1;33m         \u001b[0mself\u001b[0m\u001b[1;33m.\u001b[0m\u001b[0m_validate_read_indexer\u001b[0m\u001b[1;33m(\u001b[0m\u001b[0mkeyarr\u001b[0m\u001b[1;33m,\u001b[0m \u001b[0mindexer\u001b[0m\u001b[1;33m,\u001b[0m \u001b[0maxis\u001b[0m\u001b[1;33m)\u001b[0m\u001b[1;33m\u001b[0m\u001b[1;33m\u001b[0m\u001b[0m\n\u001b[0m\u001b[0;32m   1315\u001b[0m \u001b[1;33m\u001b[0m\u001b[0m\n\u001b[0;32m   1316\u001b[0m         if needs_i8_conversion(ax.dtype) or isinstance(\n",
      "\u001b[1;32mc:\\Users\\abade\\anaconda3\\lib\\site-packages\\pandas\\core\\indexing.py\u001b[0m in \u001b[0;36m_validate_read_indexer\u001b[1;34m(self, key, indexer, axis)\u001b[0m\n\u001b[0;32m   1372\u001b[0m                 \u001b[1;32mif\u001b[0m \u001b[0muse_interval_msg\u001b[0m\u001b[1;33m:\u001b[0m\u001b[1;33m\u001b[0m\u001b[1;33m\u001b[0m\u001b[0m\n\u001b[0;32m   1373\u001b[0m                     \u001b[0mkey\u001b[0m \u001b[1;33m=\u001b[0m \u001b[0mlist\u001b[0m\u001b[1;33m(\u001b[0m\u001b[0mkey\u001b[0m\u001b[1;33m)\u001b[0m\u001b[1;33m\u001b[0m\u001b[1;33m\u001b[0m\u001b[0m\n\u001b[1;32m-> 1374\u001b[1;33m                 \u001b[1;32mraise\u001b[0m \u001b[0mKeyError\u001b[0m\u001b[1;33m(\u001b[0m\u001b[1;34mf\"None of [{key}] are in the [{axis_name}]\"\u001b[0m\u001b[1;33m)\u001b[0m\u001b[1;33m\u001b[0m\u001b[1;33m\u001b[0m\u001b[0m\n\u001b[0m\u001b[0;32m   1375\u001b[0m \u001b[1;33m\u001b[0m\u001b[0m\n\u001b[0;32m   1376\u001b[0m             \u001b[0mnot_found\u001b[0m \u001b[1;33m=\u001b[0m \u001b[0mlist\u001b[0m\u001b[1;33m(\u001b[0m\u001b[0mensure_index\u001b[0m\u001b[1;33m(\u001b[0m\u001b[0mkey\u001b[0m\u001b[1;33m)\u001b[0m\u001b[1;33m[\u001b[0m\u001b[0mmissing_mask\u001b[0m\u001b[1;33m.\u001b[0m\u001b[0mnonzero\u001b[0m\u001b[1;33m(\u001b[0m\u001b[1;33m)\u001b[0m\u001b[1;33m[\u001b[0m\u001b[1;36m0\u001b[0m\u001b[1;33m]\u001b[0m\u001b[1;33m]\u001b[0m\u001b[1;33m.\u001b[0m\u001b[0munique\u001b[0m\u001b[1;33m(\u001b[0m\u001b[1;33m)\u001b[0m\u001b[1;33m)\u001b[0m\u001b[1;33m\u001b[0m\u001b[1;33m\u001b[0m\u001b[0m\n",
      "\u001b[1;31mKeyError\u001b[0m: \"None of [Index(['04540d242.png', '04540d84.png', '04714d109.png', '04714d18.png'], dtype='object')] are in the [index]\""
     ]
    }
   ],
   "source": [
    "reference_path = r'./Morph/Morph_1/testmorph/'\n",
    "df_m1 = compute_new_distances(reference_path, df, 'testmorph')"
   ]
  },
  {
   "cell_type": "code",
   "execution_count": 65,
   "metadata": {},
   "outputs": [],
   "source": [
    "for i in range(1,7):\n",
    "    reference_path = fr'./Morph/Morph_{i}/'\n",
    "    compute_new_distances(reference_path, df, f'morph{i}')"
   ]
  },
  {
   "cell_type": "code",
   "execution_count": 63,
   "metadata": {},
   "outputs": [
    {
     "data": {
      "text/plain": [
       "['04540d242.png', '04540d84.png', '04714d109.png', '04714d18.png', 'Morph.bmp']"
      ]
     },
     "execution_count": 63,
     "metadata": {},
     "output_type": "execute_result"
    }
   ],
   "source": [
    "reference_path = r'./Morph/Morph_1/testmorph/'\n",
    "files = [f for f in listdir(reference_path) if isfile(join(reference_path, f))]\n",
    "files\n"
   ]
  },
  {
   "cell_type": "code",
   "execution_count": 132,
   "metadata": {},
   "outputs": [],
   "source": [
    "def compute_new_distances(reference_path, savetag):\n",
    "    \n",
    "    # Obtain the files on the directory\n",
    "    files = files = [f for f in listdir(reference_path) if isfile(join(reference_path, f))]\n",
    "    # Create a list to store the embeding distances\n",
    "    files2 = files.copy()\n",
    "    \n",
    "    images = []\n",
    "    # morphed = [f for f in files if  f.split('.')[1] != 'png']\n",
    "    # original = [f for f in files if  f.split('.')[1] == 'png']\n",
    "    shapes = []\n",
    "\n",
    "    new_df = pd.DataFrame(index=files, columns=files)\n",
    "    \n",
    "    for im1 in tqdm(files):\n",
    "        \n",
    "        im = cv2.imread(reference_path+im1)\n",
    "        position = ((int) (im.shape[1]/2 - 180), (int) (im.shape[0]/2 + 450))\n",
    "        cv2.putText(\n",
    "            im, \n",
    "            im1, #text\n",
    "            position, #position at which writing has to start\n",
    "            cv2.FONT_HERSHEY_TRIPLEX, #font family\n",
    "            1.5, #font size\n",
    "            (0, 0, 0, 0), #font color\n",
    "            3) #font stroke\n",
    "\n",
    "        images.append(im)\n",
    "        shapes.append(im.shape)\n",
    "        \n",
    "        for im2 in files2:\n",
    "            s, _ = ax.comparefaces(reference_path+im1, reference_path+im2)\n",
    "            new_df[im1][im2] = s\n",
    "            new_df[im2][im1] = s\n",
    "        files2.pop(0)\n",
    "            \n",
    "    shapes = min(shapes)   \n",
    "    for i in range(len(images)):\n",
    "        images[i] = images[i][:shapes[0],:shapes[1],:shapes[2]]\n",
    "    \n",
    "    path = reference_path+\"results/\"\n",
    "    Path(path).mkdir(parents=True, exist_ok=True)\n",
    "\n",
    "    new_df.to_csv(path+savetag+'.csv')\n",
    "    dp.similarity_image(images, new_df.values, path+savetag)\n",
    "    \n",
    "    \n",
    "    return new_df"
   ]
  },
  {
   "cell_type": "code",
   "execution_count": 135,
   "metadata": {},
   "outputs": [
    {
     "name": "stderr",
     "output_type": "stream",
     "text": [
      "100%|██████████| 5/5 [00:04<00:00,  1.06it/s]\n"
     ]
    }
   ],
   "source": [
    "reference_path = r'./Morph/Morph_6/testmorph/'\n",
    "new_df = compute_new_distances(reference_path, 'testmorph')\n"
   ]
  },
  {
   "cell_type": "code",
   "execution_count": 167,
   "metadata": {},
   "outputs": [
    {
     "data": {
      "text/plain": [
       "04540d107.png    0.000000\n",
       "04714d35.png     0.185079\n",
       "04540d95.png     0.213729\n",
       "04708d81.png     0.246293\n",
       "04744d96.png     0.288438\n",
       "                   ...   \n",
       "04878d30.png     1.045561\n",
       "04898d56.png     1.046772\n",
       "04902d00.png     1.046866\n",
       "04535d88.png     1.047895\n",
       "04434d131.png    1.048358\n",
       "Name: 04540d107.png, Length: 600, dtype: float64"
      ]
     },
     "execution_count": 167,
     "metadata": {},
     "output_type": "execute_result"
    }
   ],
   "source": [
    "\n",
    "df.loc['04540d107.png',:].sort_values().head(600)"
   ]
  },
  {
   "cell_type": "code",
   "execution_count": 98,
   "metadata": {},
   "outputs": [
    {
     "name": "stderr",
     "output_type": "stream",
     "text": [
      "100%|██████████| 1440/1440 [00:41<00:00, 34.94it/s]\n"
     ]
    }
   ],
   "source": [
    "matches = []\n",
    "nonmatches = []\n",
    "c = 0 \n",
    "\n",
    "for idx in tqdm(df.index):\n",
    "    for col in df.columns:\n",
    "        if idx.split('d')[0] == col.split('d')[0]:\n",
    "            if df[idx][col] != 0 :\n",
    "                if not np.isnan(df[idx][col]):\n",
    "                    matches.append(df[idx][col])\n",
    "        else:\n",
    "            if df[idx][col] != 0:\n",
    "                if not np.isnan(df[idx][col]):\n",
    "                    nonmatches.append(df[idx][col])\n",
    "\n"
   ]
  },
  {
   "cell_type": "code",
   "execution_count": 99,
   "metadata": {},
   "outputs": [
    {
     "name": "stdout",
     "output_type": "stream",
     "text": [
      "0 instances matches: 0\n",
      "NaN instances matches: 0\n",
      "length matches: 2750\n",
      "0.23243818\n",
      "\n",
      "0 instances nonmatches: 0\n",
      "NaN instances nonmatches: 0\n",
      "length nonmatches: 2066532\n"
     ]
    }
   ],
   "source": [
    "matches = np.array(matches)\n",
    "nonmatches = np.array(nonmatches)\n",
    "print(f'0 instances matches: {(matches == 0).sum()}')\n",
    "print(f'NaN instances matches: {(matches == np.NaN).sum()}')\n",
    "print(f'length matches: {len(matches)}')\n",
    "print(matches[328])\n",
    "print('')\n",
    "print(f'0 instances nonmatches: {(nonmatches == 0).sum()}')\n",
    "print(f'NaN instances nonmatches: {(nonmatches == np.NaN).sum()}')\n",
    "print(f'length nonmatches: {len(nonmatches)}')\n"
   ]
  },
  {
   "cell_type": "code",
   "execution_count": 100,
   "metadata": {},
   "outputs": [],
   "source": [
    "np.savetxt('./HPC_results/embeding_matches.txt', matches)\n",
    "np.savetxt('./HPC_results/embeding_nonmatches.txt', nonmatches)"
   ]
  },
  {
   "cell_type": "code",
   "execution_count": 91,
   "metadata": {},
   "outputs": [
    {
     "data": {
      "text/plain": [
       "Text(0.5, 1.0, 'NonMatches')"
      ]
     },
     "execution_count": 91,
     "metadata": {},
     "output_type": "execute_result"
    },
    {
     "data": {
      "image/png": "[encoded data removed]",
      "text/plain": [
       "<Figure size 1440x720 with 2 Axes>"
      ]
     },
     "metadata": {
      "needs_background": "light"
     },
     "output_type": "display_data"
    }
   ],
   "source": [
    "fig, ax = plt.subplots(1,2, figsize=(20,10))\n",
    "ax[0].hist(matches)\n",
    "ax[0].set_title('Matches')\n",
    "ax[1].hist(nonmatches)\n",
    "ax[1].set_title('NonMatches')"
   ]
  }
 ],
 "metadata": {
  "kernelspec": {
   "display_name": "Python 3.8.12 ('base')",
   "language": "python",
   "name": "python3"
  },
  "language_info": {
   "codemirror_mode": {
    "name": "ipython",
    "version": 3
   },
   "file_extension": ".py",
   "mimetype": "text/x-python",
   "name": "python",
   "nbconvert_exporter": "python",
   "pygments_lexer": "ipython3",
   "version": "3.8.12"
  },
  "orig_nbformat": 4,
  "vscode": {
   "interpreter": {
    "hash": "591d6a3bc2b6cdf8683c74f4e57f285ecbcfd33923f3be5d0dda2607c225e6c1"
   }
  }
 },
 "nbformat": 4,
 "nbformat_minor": 2
}
