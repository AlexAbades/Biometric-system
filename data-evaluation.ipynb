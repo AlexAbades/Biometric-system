{
 "cells": [
  {
   "cell_type": "code",
   "execution_count": 42,
   "metadata": {},
   "outputs": [],
   "source": [
    "import math\n",
    "import operator\n",
    "from pathlib import Path\n",
    "\n",
    "from ipywidgets import fixed, interact\n",
    "import ipywidgets as widgets\n",
    "import matplotlib.patches as mpatches\n",
    "import matplotlib.pyplot as plt\n",
    "import numpy as np\n",
    "import pandas as pd\n",
    "from scipy.stats import describe, gaussian_kde\n",
    "import seaborn as sns\n",
    "import sys\n",
    "\n",
    "sys.path.insert(1, './DET-tutorial-python')\n",
    "from DET import DET\n",
    "\n",
    "\n",
    "mated_colour = \"green\"\n",
    "mated_label = \"Mated scores\"\n",
    "nonmated_colour = \"red\"\n",
    "nonmated_label = \"Non-mated scores\"\n",
    "\n",
    "figure_size = (12,6)\n",
    "alpha_shade = 0.25\n",
    "alpha_fill = 1.0\n",
    "linewidth = 2\n",
    "legend_loc = \"upper left\"\n",
    "legend_anchor = (1.0, 1.02)\n",
    "legend_cols = 1\n",
    "legend_fontsize = 12\n",
    "label_fontsize = 16\n",
    "\n",
    "threshold_colour = \"black\"\n",
    "threshold_style = \"--\"\n",
    "round_digits = 5\n",
    "sns.set(style=\"white\", palette=\"muted\", color_codes=True)\n",
    "plt.rc(\"axes\", axisbelow=True)"
   ]
  },
  {
   "cell_type": "code",
   "execution_count": 43,
   "metadata": {},
   "outputs": [],
   "source": [
    "def descriptive_statistics(mated_scores, nonmated_scores):\n",
    "    stats_labels = [\"Observations\", \"Minimum\", \"Maximum\", \"Mean\", \"St. Dev.\", \"Skewness\", \"Ex. Kurtosis\"]\n",
    "    mated_stats = describe(mated_scores)\n",
    "    mated_stats = [mated_stats.nobs, mated_stats.minmax[0], mated_stats.minmax[1], mated_stats.mean, math.sqrt(mated_stats.variance), mated_stats.skewness, mated_stats.kurtosis]\n",
    "    nonmated_stats = describe(nonmated_scores)\n",
    "    nonmated_stats = [nonmated_stats.nobs, nonmated_stats.minmax[0], nonmated_stats.minmax[1], nonmated_stats.mean, math.sqrt(nonmated_stats.variance), nonmated_stats.skewness, nonmated_stats.kurtosis]\n",
    "\n",
    "    stats_system_df = pd.DataFrame(np.array([stats_labels, mated_stats, nonmated_stats]).T, columns=[\"Statistic\", \"Mated\", \"Non-mated\"])\n",
    "    stats_system_df = stats_system_df.astype({\"Statistic\": str, \"Mated\": float, \"Non-mated\": float})\n",
    "    return stats_system_df\n"
   ]
  },
  {
   "cell_type": "code",
   "execution_count": 44,
   "metadata": {},
   "outputs": [],
   "source": [
    "mated_scores1 = np.loadtxt('./HPC_results/embeding_matches.txt')\n",
    "nonmated_scores1 = np.loadtxt('./HPC_results/embeding_nonmatches.txt')"
   ]
  },
  {
   "cell_type": "code",
   "execution_count": 46,
   "metadata": {},
   "outputs": [
    {
     "data": {
      "text/html": [
       "<style type=\"text/css\">\n",
       "</style>\n",
       "<table id=\"T_689ac_\">\n",
       "  <thead>\n",
       "    <tr>\n",
       "      <th class=\"col_heading level0 col0\" >Statistic</th>\n",
       "      <th class=\"col_heading level0 col1\" >Mated</th>\n",
       "      <th class=\"col_heading level0 col2\" >Non-mated</th>\n",
       "    </tr>\n",
       "  </thead>\n",
       "  <tbody>\n",
       "    <tr>\n",
       "      <td id=\"T_689ac_row0_col0\" class=\"data row0 col0\" >Observations</td>\n",
       "      <td id=\"T_689ac_row0_col1\" class=\"data row0 col1\" >2750.000000</td>\n",
       "      <td id=\"T_689ac_row0_col2\" class=\"data row0 col2\" >2066532.000000</td>\n",
       "    </tr>\n",
       "    <tr>\n",
       "      <td id=\"T_689ac_row1_col0\" class=\"data row1 col0\" >Minimum</td>\n",
       "      <td id=\"T_689ac_row1_col1\" class=\"data row1 col1\" >0.024200</td>\n",
       "      <td id=\"T_689ac_row1_col2\" class=\"data row1 col2\" >0.185080</td>\n",
       "    </tr>\n",
       "    <tr>\n",
       "      <td id=\"T_689ac_row2_col0\" class=\"data row2 col0\" >Maximum</td>\n",
       "      <td id=\"T_689ac_row2_col1\" class=\"data row2 col1\" >1.234260</td>\n",
       "      <td id=\"T_689ac_row2_col2\" class=\"data row2 col2\" >2.685920</td>\n",
       "    </tr>\n",
       "    <tr>\n",
       "      <td id=\"T_689ac_row3_col0\" class=\"data row3 col0\" >Mean</td>\n",
       "      <td id=\"T_689ac_row3_col1\" class=\"data row3 col1\" >0.321110</td>\n",
       "      <td id=\"T_689ac_row3_col2\" class=\"data row3 col2\" >1.288030</td>\n",
       "    </tr>\n",
       "    <tr>\n",
       "      <td id=\"T_689ac_row4_col0\" class=\"data row4 col0\" >St. Dev.</td>\n",
       "      <td id=\"T_689ac_row4_col1\" class=\"data row4 col1\" >0.170180</td>\n",
       "      <td id=\"T_689ac_row4_col2\" class=\"data row4 col2\" >0.322560</td>\n",
       "    </tr>\n",
       "    <tr>\n",
       "      <td id=\"T_689ac_row5_col0\" class=\"data row5 col0\" >Skewness</td>\n",
       "      <td id=\"T_689ac_row5_col1\" class=\"data row5 col1\" >1.246010</td>\n",
       "      <td id=\"T_689ac_row5_col2\" class=\"data row5 col2\" >-0.001940</td>\n",
       "    </tr>\n",
       "    <tr>\n",
       "      <td id=\"T_689ac_row6_col0\" class=\"data row6 col0\" >Ex. Kurtosis</td>\n",
       "      <td id=\"T_689ac_row6_col1\" class=\"data row6 col1\" >2.218870</td>\n",
       "      <td id=\"T_689ac_row6_col2\" class=\"data row6 col2\" >-0.302940</td>\n",
       "    </tr>\n",
       "  </tbody>\n",
       "</table>\n"
      ],
      "text/plain": [
       "<pandas.io.formats.style.Styler at 0x1ccbd544040>"
      ]
     },
     "execution_count": 46,
     "metadata": {},
     "output_type": "execute_result"
    }
   ],
   "source": [
    "stats_system1_df = descriptive_statistics(mated_scores1, nonmated_scores1)\n",
    "stats_system1_df.round(round_digits).style.hide_index()"
   ]
  },
  {
   "cell_type": "code",
   "execution_count": null,
   "metadata": {},
   "outputs": [],
   "source": []
  },
  {
   "cell_type": "code",
   "execution_count": null,
   "metadata": {},
   "outputs": [],
   "source": []
  },
  {
   "cell_type": "code",
   "execution_count": null,
   "metadata": {},
   "outputs": [],
   "source": []
  },
  {
   "cell_type": "code",
   "execution_count": null,
   "metadata": {},
   "outputs": [],
   "source": []
  },
  {
   "cell_type": "code",
   "execution_count": null,
   "metadata": {},
   "outputs": [],
   "source": []
  }
 ],
 "metadata": {
  "kernelspec": {
   "display_name": "Python 3.8.12 ('base')",
   "language": "python",
   "name": "python3"
  },
  "language_info": {
   "codemirror_mode": {
    "name": "ipython",
    "version": 3
   },
   "file_extension": ".py",
   "mimetype": "text/x-python",
   "name": "python",
   "nbconvert_exporter": "python",
   "pygments_lexer": "ipython3",
   "version": "3.8.12"
  },
  "orig_nbformat": 4,
  "vscode": {
   "interpreter": {
    "hash": "e52dddd8ca2ba95afe67578a96296e9b17628fddb050e9ee950fdfaca96878c3"
   }
  }
 },
 "nbformat": 4,
 "nbformat_minor": 2
}
