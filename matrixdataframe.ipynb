{
 "cells": [
  {
   "cell_type": "code",
   "execution_count": 8,
   "metadata": {},
   "outputs": [],
   "source": [
    "import numpy as np \n",
    "import pandas as pd \n",
    "import skimage.io\n",
    "import matplotlib.pyplot as plt \n",
    "from numpy.random import randint as rd \n",
    "import auxiliar as ax \n",
    "from os import listdir\n",
    "from os.path import isfile, join\n",
    "from tqdm import tqdm \n",
    "import arcface"
   ]
  },
  {
   "cell_type": "code",
   "execution_count": 9,
   "metadata": {},
   "outputs": [],
   "source": [
    "path = r'data\\reference/'\n",
    "onlyfiles = [f for f in listdir(path) if isfile(join(path, f))]"
   ]
  },
  {
   "cell_type": "code",
   "execution_count": 15,
   "metadata": {},
   "outputs": [
    {
     "data": {
      "text/plain": [
       "'04347d47.png'"
      ]
     },
     "execution_count": 15,
     "metadata": {},
     "output_type": "execute_result"
    }
   ],
   "source": [
    "onlyfiles[195]"
   ]
  },
  {
   "cell_type": "code",
   "execution_count": 16,
   "metadata": {},
   "outputs": [
    {
     "data": {
      "text/plain": [
       "'04347d47.png'"
      ]
     },
     "execution_count": 16,
     "metadata": {},
     "output_type": "execute_result"
    }
   ],
   "source": [
    "onlyfiles.pop(195)"
   ]
  },
  {
   "cell_type": "code",
   "execution_count": 17,
   "metadata": {},
   "outputs": [
    {
     "name": "stdout",
     "output_type": "stream",
     "text": [
      "Data Frames Created\n"
     ]
    },
    {
     "name": "stderr",
     "output_type": "stream",
     "text": [
      "100%|██████████| 10/10 [00:16<00:00,  1.67s/it]\n"
     ]
    }
   ],
   "source": [
    "path = r'data\\reference/'\n",
    "onlyfiles = [f for f in listdir(path) if isfile(join(path, f))]\n",
    "\n",
    "# Create a dataframe \n",
    "idx = onlyfiles[:10]\n",
    "idx_2 = idx.copy()\n",
    "\n",
    "df_emb = pd.DataFrame(index=idx, columns=idx)\n",
    "df_cos = df_emb.copy()\n",
    "print('Data Frames Created')\n",
    "\n",
    "match_emb = []\n",
    "notmatch_emb = []\n",
    "\n",
    "match_cos = []\n",
    "notmatch_cos = []\n",
    "\n",
    "\n",
    "for file1 in tqdm(idx):\n",
    "\n",
    "    counter = 0 \n",
    "    for file2 in idx_2:\n",
    "        # Get full paths of each photo\n",
    "        path1 = path+file1\n",
    "        path2 = path+file2\n",
    "        \n",
    "        # Calculate the embeding distance and cos similiratity for each pair of photos\n",
    "        emb_dist, cos_sim  = ax.comparefaces(path1, path2)\n",
    "\n",
    "        # Store the embeding distance in the dataframe\n",
    "        df_emb[file1][file2] = emb_dist\n",
    "        df_emb[file2][file1] = emb_dist\n",
    "\n",
    "        # Store the Cos similarity in the dataframe\n",
    "        df_cos[file1][file2] = cos_sim\n",
    "        df_cos[file2][file1] = cos_sim\n",
    "\n",
    "        # Check for matches\n",
    "        if file1.split('d')[0] == file2.split('d')[0]:\n",
    "            if emb_dist:\n",
    "                match_emb.append(emb_dist)\n",
    "                match_cos.append(cos_sim)\n",
    "        # Check for not macthes\n",
    "        else:\n",
    "            # It's not a match\n",
    "            notmatch_emb.append(emb_dist)\n",
    "            notmatch_cos.append(cos_sim)\n",
    "\n",
    "    \n",
    "    \n",
    "    \n",
    "    # Drop first index\n",
    "    idx_2.pop(0)\n",
    "\n",
    "\n",
    "\n",
    "# Save files \n",
    "np.savetxt('match_emb', match_emb, delimiter=',')\n",
    "np.savetxt('match_cos', match_cos, delimiter=',')\n",
    "np.savetxt('notmatch_emb', notmatch_emb, delimiter=',')\n",
    "np.savetxt('notmatch_cos', notmatch_cos, delimiter=',')\n",
    "\n",
    "df_emb.to_csv('matrix_distance.csv')\n",
    "df_cos.to_csv('matrix_cos_similiaity.csv')"
   ]
  },
  {
   "cell_type": "code",
   "execution_count": 29,
   "metadata": {},
   "outputs": [],
   "source": [
    "df_emb.to_csv('matrix_distance.csv')"
   ]
  },
  {
   "cell_type": "code",
   "execution_count": 35,
   "metadata": {},
   "outputs": [
    {
     "data": {
      "text/html": [
       "<div>\n",
       "<style scoped>\n",
       "    .dataframe tbody tr th:only-of-type {\n",
       "        vertical-align: middle;\n",
       "    }\n",
       "\n",
       "    .dataframe tbody tr th {\n",
       "        vertical-align: top;\n",
       "    }\n",
       "\n",
       "    .dataframe thead th {\n",
       "        text-align: right;\n",
       "    }\n",
       "</style>\n",
       "<table border=\"1\" class=\"dataframe\">\n",
       "  <thead>\n",
       "    <tr style=\"text-align: right;\">\n",
       "      <th></th>\n",
       "      <th>02463d252.png</th>\n",
       "      <th>02463d608.png</th>\n",
       "      <th>02463d632.png</th>\n",
       "      <th>04200d68.png</th>\n",
       "      <th>04201d132.png</th>\n",
       "      <th>04201d380.png</th>\n",
       "      <th>04201d426.png</th>\n",
       "      <th>04202d133.png</th>\n",
       "      <th>04202d392.png</th>\n",
       "      <th>04202d544.png</th>\n",
       "    </tr>\n",
       "  </thead>\n",
       "  <tbody>\n",
       "    <tr>\n",
       "      <th>02463d252.png</th>\n",
       "      <td>0.000000</td>\n",
       "      <td>0.398870</td>\n",
       "      <td>0.634277</td>\n",
       "      <td>1.861663</td>\n",
       "      <td>1.107920</td>\n",
       "      <td>1.259970</td>\n",
       "      <td>1.361020</td>\n",
       "      <td>1.624616</td>\n",
       "      <td>1.457035</td>\n",
       "      <td>1.537668</td>\n",
       "    </tr>\n",
       "    <tr>\n",
       "      <th>02463d608.png</th>\n",
       "      <td>0.398870</td>\n",
       "      <td>0.000000</td>\n",
       "      <td>0.449452</td>\n",
       "      <td>1.686279</td>\n",
       "      <td>0.988418</td>\n",
       "      <td>0.884135</td>\n",
       "      <td>1.041508</td>\n",
       "      <td>1.610634</td>\n",
       "      <td>1.347355</td>\n",
       "      <td>1.490636</td>\n",
       "    </tr>\n",
       "    <tr>\n",
       "      <th>02463d632.png</th>\n",
       "      <td>0.634277</td>\n",
       "      <td>0.449452</td>\n",
       "      <td>0.000000</td>\n",
       "      <td>1.764080</td>\n",
       "      <td>1.282379</td>\n",
       "      <td>1.275921</td>\n",
       "      <td>1.344235</td>\n",
       "      <td>1.654221</td>\n",
       "      <td>1.451251</td>\n",
       "      <td>1.581484</td>\n",
       "    </tr>\n",
       "    <tr>\n",
       "      <th>04200d68.png</th>\n",
       "      <td>1.861663</td>\n",
       "      <td>1.686279</td>\n",
       "      <td>1.764080</td>\n",
       "      <td>0.000000</td>\n",
       "      <td>1.573308</td>\n",
       "      <td>1.284852</td>\n",
       "      <td>1.289061</td>\n",
       "      <td>1.525611</td>\n",
       "      <td>1.812839</td>\n",
       "      <td>1.610329</td>\n",
       "    </tr>\n",
       "    <tr>\n",
       "      <th>04201d132.png</th>\n",
       "      <td>1.107920</td>\n",
       "      <td>0.988418</td>\n",
       "      <td>1.282379</td>\n",
       "      <td>1.573308</td>\n",
       "      <td>0.000000</td>\n",
       "      <td>0.611689</td>\n",
       "      <td>0.521345</td>\n",
       "      <td>1.355166</td>\n",
       "      <td>1.186641</td>\n",
       "      <td>1.296567</td>\n",
       "    </tr>\n",
       "    <tr>\n",
       "      <th>04201d380.png</th>\n",
       "      <td>1.259970</td>\n",
       "      <td>0.884135</td>\n",
       "      <td>1.275921</td>\n",
       "      <td>1.284852</td>\n",
       "      <td>0.611689</td>\n",
       "      <td>0.000000</td>\n",
       "      <td>0.231025</td>\n",
       "      <td>1.267034</td>\n",
       "      <td>0.978343</td>\n",
       "      <td>1.150297</td>\n",
       "    </tr>\n",
       "    <tr>\n",
       "      <th>04201d426.png</th>\n",
       "      <td>1.361020</td>\n",
       "      <td>1.041508</td>\n",
       "      <td>1.344235</td>\n",
       "      <td>1.289061</td>\n",
       "      <td>0.521345</td>\n",
       "      <td>0.231025</td>\n",
       "      <td>0.000000</td>\n",
       "      <td>1.332184</td>\n",
       "      <td>1.175158</td>\n",
       "      <td>1.320393</td>\n",
       "    </tr>\n",
       "    <tr>\n",
       "      <th>04202d133.png</th>\n",
       "      <td>1.624616</td>\n",
       "      <td>1.610634</td>\n",
       "      <td>1.654221</td>\n",
       "      <td>1.525611</td>\n",
       "      <td>1.355166</td>\n",
       "      <td>1.267034</td>\n",
       "      <td>1.332184</td>\n",
       "      <td>0.000000</td>\n",
       "      <td>0.298766</td>\n",
       "      <td>0.232645</td>\n",
       "    </tr>\n",
       "    <tr>\n",
       "      <th>04202d392.png</th>\n",
       "      <td>1.457035</td>\n",
       "      <td>1.347355</td>\n",
       "      <td>1.451251</td>\n",
       "      <td>1.812839</td>\n",
       "      <td>1.186641</td>\n",
       "      <td>0.978343</td>\n",
       "      <td>1.175158</td>\n",
       "      <td>0.298766</td>\n",
       "      <td>0.000000</td>\n",
       "      <td>0.153652</td>\n",
       "    </tr>\n",
       "    <tr>\n",
       "      <th>04202d544.png</th>\n",
       "      <td>1.537668</td>\n",
       "      <td>1.490636</td>\n",
       "      <td>1.581484</td>\n",
       "      <td>1.610329</td>\n",
       "      <td>1.296567</td>\n",
       "      <td>1.150297</td>\n",
       "      <td>1.320393</td>\n",
       "      <td>0.232645</td>\n",
       "      <td>0.153652</td>\n",
       "      <td>0.000000</td>\n",
       "    </tr>\n",
       "  </tbody>\n",
       "</table>\n",
       "</div>"
      ],
      "text/plain": [
       "               02463d252.png  02463d608.png  02463d632.png  04200d68.png  \\\n",
       "02463d252.png       0.000000       0.398870       0.634277      1.861663   \n",
       "02463d608.png       0.398870       0.000000       0.449452      1.686279   \n",
       "02463d632.png       0.634277       0.449452       0.000000      1.764080   \n",
       "04200d68.png        1.861663       1.686279       1.764080      0.000000   \n",
       "04201d132.png       1.107920       0.988418       1.282379      1.573308   \n",
       "04201d380.png       1.259970       0.884135       1.275921      1.284852   \n",
       "04201d426.png       1.361020       1.041508       1.344235      1.289061   \n",
       "04202d133.png       1.624616       1.610634       1.654221      1.525611   \n",
       "04202d392.png       1.457035       1.347355       1.451251      1.812839   \n",
       "04202d544.png       1.537668       1.490636       1.581484      1.610329   \n",
       "\n",
       "               04201d132.png  04201d380.png  04201d426.png  04202d133.png  \\\n",
       "02463d252.png       1.107920       1.259970       1.361020       1.624616   \n",
       "02463d608.png       0.988418       0.884135       1.041508       1.610634   \n",
       "02463d632.png       1.282379       1.275921       1.344235       1.654221   \n",
       "04200d68.png        1.573308       1.284852       1.289061       1.525611   \n",
       "04201d132.png       0.000000       0.611689       0.521345       1.355166   \n",
       "04201d380.png       0.611689       0.000000       0.231025       1.267034   \n",
       "04201d426.png       0.521345       0.231025       0.000000       1.332184   \n",
       "04202d133.png       1.355166       1.267034       1.332184       0.000000   \n",
       "04202d392.png       1.186641       0.978343       1.175158       0.298766   \n",
       "04202d544.png       1.296567       1.150297       1.320393       0.232645   \n",
       "\n",
       "               04202d392.png  04202d544.png  \n",
       "02463d252.png       1.457035       1.537668  \n",
       "02463d608.png       1.347355       1.490636  \n",
       "02463d632.png       1.451251       1.581484  \n",
       "04200d68.png        1.812839       1.610329  \n",
       "04201d132.png       1.186641       1.296567  \n",
       "04201d380.png       0.978343       1.150297  \n",
       "04201d426.png       1.175158       1.320393  \n",
       "04202d133.png       0.298766       0.232645  \n",
       "04202d392.png       0.000000       0.153652  \n",
       "04202d544.png       0.153652       0.000000  "
      ]
     },
     "execution_count": 35,
     "metadata": {},
     "output_type": "execute_result"
    }
   ],
   "source": [
    "df1 = pd.read_csv('matrix_distance.csv', index_col=0)\n",
    "df1"
   ]
  },
  {
   "cell_type": "code",
   "execution_count": 28,
   "metadata": {},
   "outputs": [],
   "source": [
    "np.savetxt('match_emb.txt', match_emb, delimiter=',')"
   ]
  },
  {
   "cell_type": "code",
   "execution_count": 26,
   "metadata": {},
   "outputs": [],
   "source": [
    " a2 = np.loadtxt('match_emb')"
   ]
  },
  {
   "cell_type": "code",
   "execution_count": 4,
   "metadata": {},
   "outputs": [],
   "source": [
    "path = r'./data/reference/'\n",
    "ph3 = '04201d380.png'"
   ]
  },
  {
   "cell_type": "code",
   "execution_count": 6,
   "metadata": {},
   "outputs": [],
   "source": [
    "import skimage.io \n",
    "\n",
    "I = skimage.io.imread(path+ph3)"
   ]
  },
  {
   "cell_type": "code",
   "execution_count": 10,
   "metadata": {},
   "outputs": [
    {
     "name": "stdout",
     "output_type": "stream",
     "text": [
      "0\n",
      "2\n",
      "4\n",
      "6\n",
      "8\n"
     ]
    }
   ],
   "source": [
    "counter = 0 \n",
    "for i in range(10):\n",
    "    if not(counter % 2):\n",
    "        print(i)\n",
    "      \n",
    "    counter += 1"
   ]
  },
  {
   "cell_type": "code",
   "execution_count": 29,
   "metadata": {},
   "outputs": [
    {
     "data": {
      "text/plain": [
       "'04533d105.png'"
      ]
     },
     "execution_count": 29,
     "metadata": {},
     "output_type": "execute_result"
    }
   ],
   "source": [
    "import pandas as pd\n",
    "df1 = pd.read_csv('HPC results/matrix_distance.csv', index_col=0)\n",
    "onlyfiles[535]\n"
   ]
  },
  {
   "cell_type": "code",
   "execution_count": 41,
   "metadata": {},
   "outputs": [],
   "source": [
    "DF = df1.iloc[530:540,530:540]"
   ]
  },
  {
   "cell_type": "code",
   "execution_count": 50,
   "metadata": {},
   "outputs": [
    {
     "data": {
      "text/html": [
       "<div>\n",
       "<style scoped>\n",
       "    .dataframe tbody tr th:only-of-type {\n",
       "        vertical-align: middle;\n",
       "    }\n",
       "\n",
       "    .dataframe tbody tr th {\n",
       "        vertical-align: top;\n",
       "    }\n",
       "\n",
       "    .dataframe thead th {\n",
       "        text-align: right;\n",
       "    }\n",
       "</style>\n",
       "<table border=\"1\" class=\"dataframe\">\n",
       "  <thead>\n",
       "    <tr style=\"text-align: right;\">\n",
       "      <th></th>\n",
       "      <th>04675d329.png</th>\n",
       "      <th>04824d32.png</th>\n",
       "      <th>04374d93.png</th>\n",
       "      <th>04700d04.png</th>\n",
       "      <th>04343d84.png</th>\n",
       "      <th>04339d98.png</th>\n",
       "      <th>04372d101.png</th>\n",
       "      <th>04822d02.png</th>\n",
       "      <th>04597d89.png</th>\n",
       "      <th>04894d48.png</th>\n",
       "    </tr>\n",
       "  </thead>\n",
       "  <tbody>\n",
       "    <tr>\n",
       "      <th>04339d98.png</th>\n",
       "      <td>1.369390</td>\n",
       "      <td>1.387343</td>\n",
       "      <td>1.350380</td>\n",
       "      <td>1.055481</td>\n",
       "      <td>1.446217</td>\n",
       "      <td>0.0</td>\n",
       "      <td>NaN</td>\n",
       "      <td>NaN</td>\n",
       "      <td>NaN</td>\n",
       "      <td>NaN</td>\n",
       "    </tr>\n",
       "    <tr>\n",
       "      <th>04372d101.png</th>\n",
       "      <td>1.303854</td>\n",
       "      <td>1.177462</td>\n",
       "      <td>1.676114</td>\n",
       "      <td>1.329145</td>\n",
       "      <td>1.280682</td>\n",
       "      <td>NaN</td>\n",
       "      <td>NaN</td>\n",
       "      <td>NaN</td>\n",
       "      <td>NaN</td>\n",
       "      <td>NaN</td>\n",
       "    </tr>\n",
       "    <tr>\n",
       "      <th>04822d02.png</th>\n",
       "      <td>1.447717</td>\n",
       "      <td>1.096787</td>\n",
       "      <td>1.834116</td>\n",
       "      <td>1.430435</td>\n",
       "      <td>1.758069</td>\n",
       "      <td>NaN</td>\n",
       "      <td>NaN</td>\n",
       "      <td>NaN</td>\n",
       "      <td>NaN</td>\n",
       "      <td>NaN</td>\n",
       "    </tr>\n",
       "    <tr>\n",
       "      <th>04597d89.png</th>\n",
       "      <td>1.059133</td>\n",
       "      <td>1.188179</td>\n",
       "      <td>1.622130</td>\n",
       "      <td>1.427945</td>\n",
       "      <td>1.012976</td>\n",
       "      <td>NaN</td>\n",
       "      <td>NaN</td>\n",
       "      <td>NaN</td>\n",
       "      <td>NaN</td>\n",
       "      <td>NaN</td>\n",
       "    </tr>\n",
       "    <tr>\n",
       "      <th>04894d48.png</th>\n",
       "      <td>1.532173</td>\n",
       "      <td>0.847648</td>\n",
       "      <td>1.983903</td>\n",
       "      <td>1.554394</td>\n",
       "      <td>1.613689</td>\n",
       "      <td>NaN</td>\n",
       "      <td>NaN</td>\n",
       "      <td>NaN</td>\n",
       "      <td>NaN</td>\n",
       "      <td>NaN</td>\n",
       "    </tr>\n",
       "  </tbody>\n",
       "</table>\n",
       "</div>"
      ],
      "text/plain": [
       "               04675d329.png  04824d32.png  04374d93.png  04700d04.png  \\\n",
       "04339d98.png        1.369390      1.387343      1.350380      1.055481   \n",
       "04372d101.png       1.303854      1.177462      1.676114      1.329145   \n",
       "04822d02.png        1.447717      1.096787      1.834116      1.430435   \n",
       "04597d89.png        1.059133      1.188179      1.622130      1.427945   \n",
       "04894d48.png        1.532173      0.847648      1.983903      1.554394   \n",
       "\n",
       "               04343d84.png  04339d98.png  04372d101.png  04822d02.png  \\\n",
       "04339d98.png       1.446217           0.0            NaN           NaN   \n",
       "04372d101.png      1.280682           NaN            NaN           NaN   \n",
       "04822d02.png       1.758069           NaN            NaN           NaN   \n",
       "04597d89.png       1.012976           NaN            NaN           NaN   \n",
       "04894d48.png       1.613689           NaN            NaN           NaN   \n",
       "\n",
       "               04597d89.png  04894d48.png  \n",
       "04339d98.png            NaN           NaN  \n",
       "04372d101.png           NaN           NaN  \n",
       "04822d02.png            NaN           NaN  \n",
       "04597d89.png            NaN           NaN  \n",
       "04894d48.png            NaN           NaN  "
      ]
     },
     "execution_count": 50,
     "metadata": {},
     "output_type": "execute_result"
    }
   ],
   "source": [
    "DF.loc[DF.isna().any(axis=1) & DF.isna().any(axis=0)]"
   ]
  }
 ],
 "metadata": {
  "kernelspec": {
   "display_name": "Python 3.8.12 ('base')",
   "language": "python",
   "name": "python3"
  },
  "language_info": {
   "codemirror_mode": {
    "name": "ipython",
    "version": 3
   },
   "file_extension": ".py",
   "mimetype": "text/x-python",
   "name": "python",
   "nbconvert_exporter": "python",
   "pygments_lexer": "ipython3",
   "version": "3.8.12"
  },
  "orig_nbformat": 4,
  "vscode": {
   "interpreter": {
    "hash": "591d6a3bc2b6cdf8683c74f4e57f285ecbcfd33923f3be5d0dda2607c225e6c1"
   }
  }
 },
 "nbformat": 4,
 "nbformat_minor": 2
}
