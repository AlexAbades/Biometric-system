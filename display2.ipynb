{
 "cells": [
  {
   "cell_type": "code",
   "execution_count": 1,
   "metadata": {},
   "outputs": [],
   "source": [
    "import pandas as pd \n",
    "import numpy as np \n",
    "import matplotlib.pyplot as plt \n",
    "import skimage.io"
   ]
  },
  {
   "cell_type": "code",
   "execution_count": 5,
   "metadata": {},
   "outputs": [],
   "source": [
    "p1 = r'./data/reference/02463d252.png'\n",
    "p2 = r'./data/reference/02463d608.png'\n",
    "I1 = cv2.imread(p1)\n",
    "I2 = cv2.imread(p2)\n",
    "images = [I1, I2]\n",
    "input_size = I1.shape[:-1]"
   ]
  },
  {
   "cell_type": "code",
   "execution_count": 2,
   "metadata": {},
   "outputs": [],
   "source": [
    "\n",
    "import cv2\n",
    "import numpy as np"
   ]
  },
  {
   "cell_type": "code",
   "execution_count": 16,
   "metadata": {},
   "outputs": [],
   "source": [
    "def plot_embeding_grid(emb_dist, input_size):\n",
    "    \"\"\"\n",
    "    ATRIBUTES\n",
    "    ---------\n",
    "    \n",
    "    emb_dist -> square matrix of embeding distances. Must be same len as the images \n",
    "    input_size, size of the image \n",
    "    \"\"\"\n",
    "\n",
    "    n = len(emb_dist)\n",
    "    rows = []\n",
    "    for i in range(n):\n",
    "        row = []\n",
    "        for j in range(n):\n",
    "            # create small colorful image from value in distance matrix\n",
    "            value = emb_dist[i][j]\n",
    "            cell = np.empty(input_size)\n",
    "            cell.fill(value)\n",
    "            cell = (cell * 255).astype(np.uint8)\n",
    "            # color depends on value: blue is closer to 0, green is closer to 1\n",
    "            img = cv2.applyColorMap(cell, cv2.COLORMAP_WINTER)\n",
    "\n",
    "            # add distance value as text centered on image\n",
    "            font = cv2.FONT_HERSHEY_SIMPLEX\n",
    "            text = f\"{value:.4f}\"\n",
    "            textsize = cv2.getTextSize(text, font, 1, 2)[0]\n",
    "            text_x = (img.shape[1] - textsize[0]) // 2\n",
    "            text_y = (img.shape[0] + textsize[1]) // 2\n",
    "            cv2.putText(\n",
    "                img, text, (text_x, text_y), font, 2, (255, 255, 255), 2, cv2.LINE_AA,\n",
    "            )\n",
    "            row.append(img)\n",
    "        rows.append(np.concatenate(row, axis=1))\n",
    "    grid = np.concatenate(rows)\n",
    "    return grid"
   ]
  },
  {
   "cell_type": "code",
   "execution_count": 10,
   "metadata": {},
   "outputs": [
    {
     "data": {
      "text/plain": [
       "2"
      ]
     },
     "execution_count": 10,
     "metadata": {},
     "output_type": "execute_result"
    }
   ],
   "source": [
    "input_size = I1.shape[:-1]\n",
    "cos_similarity = np.random.randint(0, 100, size=(2,2))\n",
    "len(cos_similarity)\n"
   ]
  },
  {
   "cell_type": "code",
   "execution_count": 17,
   "metadata": {},
   "outputs": [],
   "source": [
    "def similarity_grid(images, cos_similarity):\n",
    "    \"\"\"\n",
    "    ATRIBUTES\n",
    "    ---------\n",
    "    images -> List of images \n",
    "    cos_similarity -> matrix with values of similarity  \n",
    "    \"\"\"\n",
    "    if len(images) != len(cos_similarity):\n",
    "        print('Must provide same number of images as dimensions of square matrix')\n",
    "\n",
    "    input_size = images[0].shape[:-1]\n",
    "    similarity_grid = plot_embeding_grid(cos_similarity, input_size)\n",
    "    # pad similarity grid with images of faces\n",
    "    horizontal_grid = np.hstack(images)\n",
    "    vertical_grid = np.vstack(images)\n",
    "    zeros = np.zeros((*input_size, 3))\n",
    "    vertical_grid = np.vstack((zeros, vertical_grid))\n",
    "    result = np.vstack((horizontal_grid, similarity_grid))\n",
    "    result = np.hstack((vertical_grid, result))\n",
    "\n",
    "\n",
    "    cv2.imwrite('image2.jpg', result)"
   ]
  },
  {
   "cell_type": "code",
   "execution_count": 18,
   "metadata": {},
   "outputs": [],
   "source": [
    "similarity_grid(images, cos_similarity)"
   ]
  }
 ],
 "metadata": {
  "kernelspec": {
   "display_name": "Python 3.8.12 ('base')",
   "language": "python",
   "name": "python3"
  },
  "language_info": {
   "codemirror_mode": {
    "name": "ipython",
    "version": 3
   },
   "file_extension": ".py",
   "mimetype": "text/x-python",
   "name": "python",
   "nbconvert_exporter": "python",
   "pygments_lexer": "ipython3",
   "version": "3.8.12"
  },
  "orig_nbformat": 4,
  "vscode": {
   "interpreter": {
    "hash": "591d6a3bc2b6cdf8683c74f4e57f285ecbcfd33923f3be5d0dda2607c225e6c1"
   }
  }
 },
 "nbformat": 4,
 "nbformat_minor": 2
}
