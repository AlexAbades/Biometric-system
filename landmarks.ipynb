{
 "cells": [
  {
   "cell_type": "code",
   "execution_count": 4,
   "metadata": {},
   "outputs": [],
   "source": [
    "import dlib\n",
    "import skimage.io"
   ]
  },
  {
   "cell_type": "code",
   "execution_count": 5,
   "metadata": {},
   "outputs": [],
   "source": [
    "def generate_face_correspondences(theImage1, theImage2):\n",
    "    # Detect the points of face.\n",
    "    detector = dlib.get_frontal_face_detector()\n",
    "    predictor = dlib.shape_predictor('code/utils/shape_predictor_68_face_landmarks.dat')\n",
    "    corresp = np.zeros((68,2))\n",
    "\n",
    "    imgList = crop_image(theImage1,theImage2)\n",
    "    list1 = []\n",
    "    list2 = []\n",
    "    j = 1\n",
    "\n",
    "    for img in imgList:\n",
    "\n",
    "        size = (img.shape[0],img.shape[1])\n",
    "        if(j == 1):\n",
    "            currList = list1\n",
    "        else:\n",
    "            currList = list2\n",
    "\n",
    "        # Ask the detector to find the bounding boxes of each face. The 1 in the\n",
    "        # second argument indicates that we should upsample the image 1 time. This\n",
    "        # will make everything bigger and allow us to detect more faces.\n",
    "\n",
    "        dets = detector(img, 1)\n",
    "\n",
    "        try:\n",
    "            if len(dets) == 0:\n",
    "                raise NoFaceFound\n",
    "        except NoFaceFound:\n",
    "            print(\"Sorry, but I couldn't find a face in the image.\")\n",
    "\n",
    "        j=j+1\n",
    "\n",
    "        for k, rect in enumerate(dets):\n",
    "            \n",
    "            # Get the landmarks/parts for the face in rect.\n",
    "            shape = predictor(img, rect)\n",
    "            # corresp = face_utils.shape_to_np(shape)\n",
    "            \n",
    "            for i in range(0,68):\n",
    "                x = shape.part(i).x\n",
    "                y = shape.part(i).y\n",
    "                currList.append((x, y))\n",
    "                corresp[i][0] += x\n",
    "                corresp[i][1] += y\n",
    "                # cv2.circle(img, (x, y), 2, (0, 255, 0), 2)\n",
    "\n",
    "            # Add back the background\n",
    "            currList.append((1,1))\n",
    "            currList.append((size[1]-1,1))\n",
    "            currList.append(((size[1]-1)//2,1))\n",
    "            currList.append((1,size[0]-1))\n",
    "            currList.append((1,(size[0]-1)//2))\n",
    "            currList.append(((size[1]-1)//2,size[0]-1))\n",
    "            currList.append((size[1]-1,size[0]-1))\n",
    "            currList.append(((size[1]-1)//2,(size[0]-1)//2))\n",
    "\n",
    "        cv2.imwrite(\"test.png\", img)\n",
    "\n",
    "    # Add back the background\n",
    "    narray = corresp/2\n",
    "    narray = np.append(narray,[[1,1]],axis=0)\n",
    "    narray = np.append(narray,[[size[1]-1,1]],axis=0)\n",
    "    narray = np.append(narray,[[(size[1]-1)//2,1]],axis=0)\n",
    "    narray = np.append(narray,[[1,size[0]-1]],axis=0)\n",
    "    narray = np.append(narray,[[1,(size[0]-1)//2]],axis=0)\n",
    "    narray = np.append(narray,[[(size[1]-1)//2,size[0]-1]],axis=0)\n",
    "    narray = np.append(narray,[[size[1]-1,size[0]-1]],axis=0)\n",
    "    narray = np.append(narray,[[(size[1]-1)//2,(size[0]-1)//2]],axis=0)\n",
    "    \n",
    "    return [size,imgList[0],imgList[1],list1,list2,narray]"
   ]
  },
  {
   "cell_type": "code",
   "execution_count": 6,
   "metadata": {},
   "outputs": [],
   "source": [
    "im1 = '04502d21.png'\n",
    "im2 = '04670d91.png'\n",
    "\n",
    "path = r'data\\reference/'\n",
    "\n",
    "I1 = skimage.io.imread(path+im1)\n",
    "I2 = skimage.io.imread(path+im2)"
   ]
  },
  {
   "cell_type": "code",
   "execution_count": 7,
   "metadata": {},
   "outputs": [
    {
     "ename": "RuntimeError",
     "evalue": "Unable to open code/utils/shape_predictor_68_face_landmarks.dat",
     "output_type": "error",
     "traceback": [
      "\u001b[1;31m---------------------------------------------------------------------------\u001b[0m",
      "\u001b[1;31mRuntimeError\u001b[0m                              Traceback (most recent call last)",
      "\u001b[1;32m~\\AppData\\Local\\Temp/ipykernel_20952/865431254.py\u001b[0m in \u001b[0;36m<module>\u001b[1;34m\u001b[0m\n\u001b[1;32m----> 1\u001b[1;33m \u001b[0mu\u001b[0m \u001b[1;33m=\u001b[0m \u001b[0mgenerate_face_correspondences\u001b[0m\u001b[1;33m(\u001b[0m\u001b[0mI1\u001b[0m\u001b[1;33m,\u001b[0m \u001b[0mI2\u001b[0m\u001b[1;33m)\u001b[0m\u001b[1;33m\u001b[0m\u001b[1;33m\u001b[0m\u001b[0m\n\u001b[0m",
      "\u001b[1;32m~\\AppData\\Local\\Temp/ipykernel_20952/3497987470.py\u001b[0m in \u001b[0;36mgenerate_face_correspondences\u001b[1;34m(theImage1, theImage2)\u001b[0m\n\u001b[0;32m      2\u001b[0m     \u001b[1;31m# Detect the points of face.\u001b[0m\u001b[1;33m\u001b[0m\u001b[1;33m\u001b[0m\u001b[1;33m\u001b[0m\u001b[0m\n\u001b[0;32m      3\u001b[0m     \u001b[0mdetector\u001b[0m \u001b[1;33m=\u001b[0m \u001b[0mdlib\u001b[0m\u001b[1;33m.\u001b[0m\u001b[0mget_frontal_face_detector\u001b[0m\u001b[1;33m(\u001b[0m\u001b[1;33m)\u001b[0m\u001b[1;33m\u001b[0m\u001b[1;33m\u001b[0m\u001b[0m\n\u001b[1;32m----> 4\u001b[1;33m     \u001b[0mpredictor\u001b[0m \u001b[1;33m=\u001b[0m \u001b[0mdlib\u001b[0m\u001b[1;33m.\u001b[0m\u001b[0mshape_predictor\u001b[0m\u001b[1;33m(\u001b[0m\u001b[1;34m'code/utils/shape_predictor_68_face_landmarks.dat'\u001b[0m\u001b[1;33m)\u001b[0m\u001b[1;33m\u001b[0m\u001b[1;33m\u001b[0m\u001b[0m\n\u001b[0m\u001b[0;32m      5\u001b[0m     \u001b[0mcorresp\u001b[0m \u001b[1;33m=\u001b[0m \u001b[0mnp\u001b[0m\u001b[1;33m.\u001b[0m\u001b[0mzeros\u001b[0m\u001b[1;33m(\u001b[0m\u001b[1;33m(\u001b[0m\u001b[1;36m68\u001b[0m\u001b[1;33m,\u001b[0m\u001b[1;36m2\u001b[0m\u001b[1;33m)\u001b[0m\u001b[1;33m)\u001b[0m\u001b[1;33m\u001b[0m\u001b[1;33m\u001b[0m\u001b[0m\n\u001b[0;32m      6\u001b[0m \u001b[1;33m\u001b[0m\u001b[0m\n",
      "\u001b[1;31mRuntimeError\u001b[0m: Unable to open code/utils/shape_predictor_68_face_landmarks.dat"
     ]
    }
   ],
   "source": [
    "u = generate_face_correspondences(I1, I2)"
   ]
  }
 ],
 "metadata": {
  "kernelspec": {
   "display_name": "Python 3.8.12 ('base')",
   "language": "python",
   "name": "python3"
  },
  "language_info": {
   "codemirror_mode": {
    "name": "ipython",
    "version": 3
   },
   "file_extension": ".py",
   "mimetype": "text/x-python",
   "name": "python",
   "nbconvert_exporter": "python",
   "pygments_lexer": "ipython3",
   "version": "3.8.12"
  },
  "orig_nbformat": 4,
  "vscode": {
   "interpreter": {
    "hash": "e52dddd8ca2ba95afe67578a96296e9b17628fddb050e9ee950fdfaca96878c3"
   }
  }
 },
 "nbformat": 4,
 "nbformat_minor": 2
}
